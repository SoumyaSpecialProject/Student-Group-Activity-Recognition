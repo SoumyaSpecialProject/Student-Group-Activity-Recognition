{
 "cells": [
  {
   "cell_type": "markdown",
   "metadata": {},
   "source": [
    "# Internship Project Work"
   ]
  },
  {
   "cell_type": "markdown",
   "metadata": {},
   "source": [
    "## Student-Group-Activity-Recognition\n",
    "\n",
    "\n",
    "Student Group Activity Recognition deals with looking into the activities of students of a college based on sensor datas from the\n",
    "**Student Life Data Set**.\n",
    "\n",
    "The aim of the project is to see how group formation is taking place, how a particular group evolves over time, how the group breaks over time and correlation with the users of the group with their gpa. \n",
    "Also it aims to finding those users who are not participating in group formation and we can check whether the student has some issues, thus helping us to introspect into the matter.\n",
    "\n",
    "Recognition of group activities is fundamentally different from single, or multi-user activity recognition in that the goal is to recognize the behavior of the group as an entity, rather than the activities of the individual members within it. Group behavior is emergent in nature, meaning that the properties of the behavior of the group are fundamentally different then the properties of the behavior of the individuals within it, or any sum of that behavior. The main challenges are in modeling the behavior of the individual group members, as well as the roles of the individual within the group dynamic and their relationship to emergent behavior of the group in parallel. Challenges which must still be addressed include quantification of the behavior and roles of individuals who join the group, integration of explicit models for role description into inference algorithms, and scalability evaluations for very large groups and crowds. Group activity recognition has applications for crowd management and response in emergency situations, as well as for social networking and Quantified Self applications.\n"
   ]
  },
  {
   "cell_type": "markdown",
   "metadata": {},
   "source": [
    "* Data Set used =  **Student Life Dataset**\n"
   ]
  },
  {
   "cell_type": "markdown",
   "metadata": {},
   "source": [
    "### Some definitions \n",
    "\n",
    "* Group - two or more individuals connected to one another by social relationships.\n",
    "\n",
    "* Activity: a human situation (context) with physical motion characteristics.\n",
    "\n",
    "* Activity Recognition: the process through which a device can discern different activities based on sensor observations.\n",
    "\n",
    "\n"
   ]
  },
  {
   "cell_type": "markdown",
   "metadata": {},
   "source": [
    "---------------------------------------------------------"
   ]
  },
  {
   "cell_type": "markdown",
   "metadata": {},
   "source": [
    "###  User Data Analysis\n",
    "\n",
    "#### Working on a small data set as an example\n",
    "\n",
    "\n",
    "\n",
    "Given some user-specific data on wifi, bssid levels for a particular day , we check whether the data is available throughout all the data points of a particular day.\n",
    "\n",
    "If the data is not available for a particular time point we print 0 else if data is available we make it 1."
   ]
  },
  {
   "cell_type": "markdown",
   "metadata": {},
   "source": [
    "### Plotting May 26 Data"
   ]
  },
  {
   "cell_type": "code",
   "execution_count": 2,
   "metadata": {
    "collapsed": false
   },
   "outputs": [
    {
     "data": {
      "image/png": "[encoded data removed]",
      "text/plain": [
       "<matplotlib.figure.Figure at 0x338beb8>"
      ]
     },
     "metadata": {},
     "output_type": "display_data"
    },
    {
     "name": "stdout",
     "output_type": "stream",
     "text": [
      "0.0310763888889\n"
     ]
    }
   ],
   "source": [
    "import matplotlib.pyplot as plt\n",
    "'''\n",
    "for May 26\n",
    "'''\n",
    "string = 'May 26'\n",
    "\n",
    "# reading from project26.txt file which contains data on May 26\n",
    "f = open('project26.txt')\n",
    "contents = f.read()\n",
    "# reading from project30.txt file which contains data on May 26\n",
    "f2 = open('project30.txt')\n",
    "contents2 = f2.read()\n",
    "# dividing a minute (60 seconds) into 4 parts -> 0,1,2,3\n",
    "timedict = {'00': 0, '15' : 1, '30' : 2, '45' :3}\n",
    "\n",
    "\n",
    "# For project26.txt\n",
    "p=0\n",
    "timelist = []\n",
    "for k in range(len(contents) - 6):\n",
    "    if(string == contents[k:k+6]):  # string = May 26 is unique and has length 6. So we extract 6 letter word where word - May 26\n",
    "        z = (contents[k+7:k+6+9])\n",
    "        exp = timedict[z[6:8]] + (4 * int(z[3:5])) + (4 * 60 * int(z[0:2]))  # After the string we have the time section\n",
    "        timelist.append(exp)   # We calculate the hours,and minutes of the given time and append it.\n",
    "        p += 1\n",
    "        \n",
    "# p - indicates the number of available data points        \n",
    "\n",
    "\n",
    "# For project30.txt\n",
    "d = 0\n",
    "for k in range(len(contents) - 6):\n",
    "    if(string == contents2[k:k+6]):\n",
    "        z = (contents2[k+7:k+6+9])    # Similar as above\n",
    "        exp = timedict[z[6:8]] + (4 * int(z[3:5])) + (4 * 60 * int(z[0:2]))\n",
    "        timelist.append(exp)\n",
    "        d += 1     \n",
    "        \n",
    "# d - indicates the number of available data points            \n",
    "        \n",
    "totallist = [0 for k in range(5760)]\n",
    "\n",
    "\n",
    "for h in range(len(timelist)):\n",
    "    totallist[timelist[h]] = 1\n",
    "# totallist denotes data points = 1 if available, 0 if unavailable\n",
    "    # timelist = denotes the time points through out the day\n",
    "          \n",
    "plt.bar([b for b in range(len(totallist))],[totallist[v] for v in range(len(totallist))])\n",
    "plt.xlabel('Data Points through the whole day')\n",
    "plt.ylabel('Probability of Available Data')\n",
    "plt.show()\n",
    "\n",
    "percentage = (p+d)/(5760*1.0)\n",
    "\n",
    "#percentage = 3.107%\n",
    "# percentage = denotes the percentage of data points available on the day\n",
    "print(percentage)\n",
    "\n",
    "f.close()\n",
    "f2.close()"
   ]
  },
  {
   "cell_type": "markdown",
   "metadata": {},
   "source": [
    "### Plotting for Day 30"
   ]
  },
  {
   "cell_type": "code",
   "execution_count": 2,
   "metadata": {
    "collapsed": false
   },
   "outputs": [
    {
     "data": {
      "image/png": "[encoded data removed]",
      "text/plain": [
       "<matplotlib.figure.Figure at 0xaf9e5f8>"
      ]
     },
     "metadata": {},
     "output_type": "display_data"
    },
    {
     "name": "stdout",
     "output_type": "stream",
     "text": [
      "0.477951388889\n"
     ]
    }
   ],
   "source": [
    "% matplotlib inline\n",
    "import matplotlib.pyplot as plt\n",
    "'''\n",
    "for May 26\n",
    "'''\n",
    "string = 'May 30'\n",
    "# Reading from file project30.txt which contains data on May 30\n",
    "f2 = open('project30.txt')\n",
    "contents = f2.read()\n",
    "# dividing a minute (60 seconds) into 4 parts -> 0,1,2,3\n",
    "timedict = {'00': 0, '15' : 1, '30' : 2, '45' :3}\n",
    "\n",
    "p=0\n",
    "timelist = []\n",
    "for k in range(len(contents) - 6):  # string = May 30 is unique and has length 6. So we extract 6 letter word where word - May 30\n",
    "\n",
    "    if(string == contents[k:k+6]):\n",
    "        z = (contents[k+7:k+6+9])\n",
    "        exp = timedict[z[6:8]] + (4 * int(z[3:5])) + (4 * 60 * int(z[0:2]))  # Extracting time part from each such line.\n",
    "        timelist.append(exp)\n",
    "        p += 1\n",
    "        \n",
    "        \n",
    "# p = total no of available data points\n",
    "totallist = [0 for k in range(5760)]\n",
    "\n",
    "for h in range(len(timelist)):\n",
    "    totallist[timelist[h]] = 1\n",
    "  \n",
    "\n",
    " # totallist denotes data points = 1 if available, 0 if unavailable\n",
    "    # timelist = time points through out the day\n",
    "\n",
    "plt.bar([b for b in range(len(totallist))],[totallist[v] for v in range(len(totallist))])\n",
    "plt.xlabel('Data Points through the whole day')\n",
    "plt.ylabel('Probability of Available Data')\n",
    "plt.show()\n",
    "\n",
    "percentage = (p)/(5760*1.0)\n",
    "\n",
    "# percentage =denotes percentage of available data points\n",
    "\n",
    "print(percentage)\n",
    "\n",
    "#f.close()\n",
    "f2.close()"
   ]
  },
  {
   "cell_type": "markdown",
   "metadata": {
    "collapsed": true
   },
   "source": [
    "### For Days 20 - 25"
   ]
  },
  {
   "cell_type": "code",
   "execution_count": 4,
   "metadata": {
    "collapsed": false
   },
   "outputs": [
    {
     "data": {
      "image/png": "[encoded data removed]",
      "text/plain": [
       "<matplotlib.figure.Figure at 0x2e4a208>"
      ]
     },
     "metadata": {},
     "output_type": "display_data"
    },
    {
     "name": "stdout",
     "output_type": "stream",
     "text": [
      "0.0458333333333\n"
     ]
    },
    {
     "data": {
      "image/png": "[encoded data removed]",
      "text/plain": [
       "<matplotlib.figure.Figure at 0x86de0f0>"
      ]
     },
     "metadata": {},
     "output_type": "display_data"
    },
    {
     "name": "stdout",
     "output_type": "stream",
     "text": [
      "0.0\n"
     ]
    },
    {
     "data": {
      "image/png": "[encoded data removed]",
      "text/plain": [
       "<matplotlib.figure.Figure at 0x114666a0>"
      ]
     },
     "metadata": {},
     "output_type": "display_data"
    },
    {
     "name": "stdout",
     "output_type": "stream",
     "text": [
      "0.0\n"
     ]
    },
    {
     "data": {
      "image/png": "[encoded data removed]",
      "text/plain": [
       "<matplotlib.figure.Figure at 0xe2fc0f0>"
      ]
     },
     "metadata": {},
     "output_type": "display_data"
    },
    {
     "name": "stdout",
     "output_type": "stream",
     "text": [
      "0.096875\n"
     ]
    },
    {
     "data": {
      "image/png": "[encoded data removed]",
      "text/plain": [
       "<matplotlib.figure.Figure at 0x10cbb908>"
      ]
     },
     "metadata": {},
     "output_type": "display_data"
    },
    {
     "name": "stdout",
     "output_type": "stream",
     "text": [
      "0.0142361111111\n"
     ]
    },
    {
     "data": {
      "image/png": "[encoded data removed]",
      "text/plain": [
       "<matplotlib.figure.Figure at 0x97ec198>"
      ]
     },
     "metadata": {},
     "output_type": "display_data"
    },
    {
     "name": "stdout",
     "output_type": "stream",
     "text": [
      "0.0236111111111\n"
     ]
    }
   ],
   "source": [
    "import matplotlib.pyplot as plt\n",
    "\n",
    "\n",
    "'''\n",
    "for May 20 - 25\n",
    "'''\n",
    "date = ['May 25','May 24','May 23','May 22','May 21','May 20']\n",
    "\n",
    "for num in date:\n",
    "\n",
    "    string = num\n",
    "\n",
    "    f = open('project26.txt')\n",
    "# Checking for the above dates in the file project26.txt\n",
    "\n",
    "    contents = f.read()\n",
    "\n",
    "# dividing one minute (60 seconds) into 4 parts -> 0,1,2,3\n",
    "    timedict = {'00': 0, '15' : 1, '30' : 2, '45' :3}\n",
    "\n",
    "\n",
    "\n",
    "    p=0\n",
    "\n",
    "\n",
    "    timelist = []\n",
    "    for k in range(len(contents) - 6):  # Checking for Lines containing that particular date\n",
    "        if(string == contents[k:k+6]):\n",
    "            z = (contents[k+7:k+6+9])\n",
    "            exp = timedict[z[6:8]] + (4 * int(z[3:5])) + (4 * 60 * int(z[0:2]))  # Extracting time from the line and calculating it in minutes\n",
    "            timelist.append(exp)  \n",
    "            p += 1  \n",
    "\n",
    "\n",
    "    # Similar as above\n",
    "    # Plotting for different dates\n",
    "\n",
    "\n",
    "\n",
    "    totallist = [0 for k in range(5760)]\n",
    "\n",
    "    for h in range(len(timelist)):\n",
    "        totallist[timelist[h]] = 1\n",
    "\n",
    "\n",
    "\n",
    "\n",
    "    plt.bar([b for b in range(len(totallist))],[totallist[v] for v in range(len(totallist))])\n",
    "\n",
    "    plt.xlabel('Data Points through the whole day of' + num)\n",
    "    plt.ylabel('Probability of Available Data')\n",
    "    plt.show()\n",
    "\n",
    "    percentage = (p)/(5760*1.0)\n",
    "    print(percentage)\n",
    "     # Calculating the percentage\n",
    "    f.close() "
   ]
  },
  {
   "cell_type": "markdown",
   "metadata": {},
   "source": [
    "--------------------------------------------------------------------------"
   ]
  },
  {
   "cell_type": "markdown",
   "metadata": {
    "collapsed": true
   },
   "source": [
    "### Observations\n",
    "\n"
   ]
  },
  {
   "cell_type": "markdown",
   "metadata": {},
   "source": [
    "We have plotted the data along different time stamps during the whole day. So this is a timeseries data. \n",
    "From the plot that we get, it is evident that some data are missing at different time points. And hence the percentage of available data is very much low.\n",
    "\n",
    "So we need to overcome this missing values and try to estimate the values at the points where the data is missing. "
   ]
  },
  {
   "cell_type": "markdown",
   "metadata": {},
   "source": [
    "---------------------------------------------------------------------------------------"
   ]
  },
  {
   "cell_type": "markdown",
   "metadata": {},
   "source": [
    "###  Missing Data Points"
   ]
  },
  {
   "cell_type": "markdown",
   "metadata": {},
   "source": [
    "There are various ways to estimate the missing data values.\n",
    "\n",
    "* Replacing the missing data values with the **mean** of the distribution.\n",
    "\n",
    "This can be done since each data point has equal probability of being available or missing. So it follows a uniform distribution. So we can approximate the missing data values as being the mean of the distribution.\n",
    "\n",
    "* Replacing the missing data values with the **(max value - min value)** of the distribution. \n",
    "\n"
   ]
  },
  {
   "cell_type": "markdown",
   "metadata": {},
   "source": [
    "### EM Algorithm"
   ]
  },
  {
   "cell_type": "markdown",
   "metadata": {},
   "source": [
    "Expectation maximization is an effective technique that is often used in data analysis to manage missing data.\n",
    "\n",
    "Expectation maximization overcomes some of the limitations of other techniques, such as mean substitution or regression substitution.\n",
    "\n",
    "It is an interative procedure in which it uses other variables to impute a value (Expectation), then checks whether that is the value most likely (Maximization). If not, it re-imputes a more likely value. This goes on until it reaches the most likely value.\n",
    "\n",
    "EM imputations are better than mean imputations because they preserve the relationship with other variables.\n"
   ]
  },
  {
   "cell_type": "markdown",
   "metadata": {},
   "source": [
    "---------------------------------------------------------------------------------------"
   ]
  },
  {
   "cell_type": "markdown",
   "metadata": {},
   "source": [
    "### Plotting Acceleration Values from a sample user data set"
   ]
  },
  {
   "cell_type": "markdown",
   "metadata": {
    "collapsed": true
   },
   "source": [
    "Here we have a user file containing the acceleration values along three axis for different timepoints during a particular day.\n",
    "\n",
    "We then plot the acceleration values (x-axis, y-axis, z-axis) for a particular day in May at different time points during the day."
   ]
  },
  {
   "cell_type": "code",
   "execution_count": 2,
   "metadata": {
    "collapsed": false
   },
   "outputs": [
    {
     "data": {
      "image/png": "[encoded data removed]",
      "text/plain": [
       "<matplotlib.figure.Figure at 0x9a30cf8>"
      ]
     },
     "metadata": {},
     "output_type": "display_data"
    },
    {
     "data": {
      "image/png": "[encoded data removed]",
      "text/plain": [
       "<matplotlib.figure.Figure at 0x9e98c18>"
      ]
     },
     "metadata": {},
     "output_type": "display_data"
    },
    {
     "data": {
      "image/png": "[encoded data removed]",
      "text/plain": [
       "<matplotlib.figure.Figure at 0x9ed2898>"
      ]
     },
     "metadata": {},
     "output_type": "display_data"
    }
   ],
   "source": [
    "#Reading Accelerometer values\n",
    "\n",
    "%matplotlib inline\n",
    "from mpl_toolkits.mplot3d import Axes3D\n",
    "import matplotlib.pyplot as plt\n",
    "from matplotlib import cm\n",
    "from matplotlib.ticker import LinearLocator, FormatStrFormatter\n",
    "\n",
    "from statsmodels.nonparametric.smoothers_lowess import lowess\n",
    "from sklearn import preprocessing\n",
    "import numpy as np\n",
    "\n",
    "fil = open('pr.txt')\n",
    "\n",
    "lines = []\n",
    "lines.append(fil.readlines())\n",
    "\n",
    "# dividing one minute into 4 parts\n",
    "timedict = {'00': 0, '15' : 1, '30' : 2, '45' :3}\n",
    "\n",
    "\n",
    "string = '23:Mon May' # Search for this string as the file contains acceleration values where this string is present\n",
    "accel = []\n",
    "accely = []\n",
    "accelz = []\n",
    "timelist = []\n",
    "for i in range(len(lines[0])):\n",
    "    if(lines[0][i][0:2] == '2:'): # acceleration along x axis has id 2:\n",
    "        for k in range(len(lines[0][i]) - 10):\n",
    "            if(string == lines[0][i][k:k+10]):\n",
    "                z = (lines[0][i][k+14:k+10+12])  # if 2: found extract the time from that line\n",
    "                exp = timedict[z[6:8]] + (4 * int(z[3:5])) + (4 * 60 * int(z[0:2]))\n",
    "                timelist.append(exp)\n",
    "                #print(exp)\n",
    "                j = 3\n",
    "                while(lines[0][i][j] != ','):  # Example 2: some x value, 3: some y value, 4: some z value\n",
    "                    j += 1\n",
    "                accel.append(lines[0][i][2:j-1]) # so till a ',' is found starting from 2: we are actually looking at 3: value\n",
    "        \n",
    "                l =j + 2\n",
    "                while(lines[0][i][l] != ','):\n",
    "                    l+=1\n",
    "                accely.append(lines[0][i][j+3:l])\n",
    "        \n",
    "                v = l+3\n",
    "                while(lines[0][i][v] != ','):\n",
    "                    v+=1\n",
    "                accelz.append(lines[0][i][l+3:v])\n",
    "                p = timelist\n",
    "        \n",
    "\n",
    "\n",
    "acceleration_x = []\n",
    "\n",
    "for k in range(len(accel)):\n",
    "    acceleration_x.append(float(accel[k]))  # acceleration values along x axis\n",
    "\n",
    "\n",
    "acceleration_y = []\n",
    "\n",
    "for k in range(len(accely)):\n",
    "    acceleration_y.append(float(accely[k]))  # acceleration values along y axis\n",
    "\n",
    "acceleration_z = []\n",
    "for k in range(len(accely)):\n",
    "    acceleration_z.append(float(accelz[k]))  # acceleration values along z axis\n",
    "\n",
    "tim = []\n",
    "for k in range(len(p)):\n",
    "    tim.append(p[k])  # appending time values at which acceleration values were found\n",
    "    \n",
    "x_axis = [timelist[b] for b in range(len(tim))]\n",
    "y_axis = [acceleration_x[b] for b in range(len(acceleration_x))]\n",
    "y_axis2 = [acceleration_y[b] for b in range(len(acceleration_y))]\n",
    "y_axis3 = [acceleration_z[b] for b in range(len(acceleration_z))]\n",
    "\n",
    "\n",
    "x_ax = [m for m in range(5760)]\n",
    "y_ax = [0 for m in range(5760)]\n",
    "y_ax2 = [0 for m in range(5760)]\n",
    "y_ax3 = [0 for m in range(5760)]\n",
    "\n",
    "\n",
    "for r in range(len(timelist)):\n",
    "    y_ax[timelist[r]] = acceleration_x[r]\n",
    "\n",
    "\n",
    "for r in range(len(timelist)):\n",
    "    y_ax2[timelist[r]] = acceleration_y[r]\n",
    "\n",
    "for r in range(len(timelist)):\n",
    "    y_ax3[timelist[r]] = acceleration_z[r]\n",
    "\n",
    "    \n",
    "## Plotting acceleration values along 3 axes.    \n",
    "    \n",
    "plt.title('For acceleration along X axis')\n",
    "plt.plot(x_ax, y_ax, '-') \n",
    "plt.xlabel('Time')\n",
    "plt.ylabel('Magnitude of Acceleration')\n",
    "plt.show()\n",
    "\n",
    "plt.title('For acceleration along Y axis')\n",
    "plt.plot(x_ax, y_ax2, '-') \n",
    "plt.xlabel('Time')\n",
    "plt.ylabel('Magnitude of Acceleration')\n",
    "plt.show()\n",
    "\n",
    "plt.title('For acceleration along Z axis')\n",
    "plt.plot(x_ax, y_ax3, '-') \n",
    "plt.xlabel('Time')\n",
    "plt.ylabel('Magnitude of Acceleration')\n",
    "plt.show()    \n"
   ]
  },
  {
   "cell_type": "markdown",
   "metadata": {},
   "source": [
    "### Normalize The Data"
   ]
  },
  {
   "cell_type": "markdown",
   "metadata": {},
   "source": [
    "In many cases it is required to normalize the data for various applications.\n",
    "\n",
    "When the particular model is sensitive to magnitude, and the units of two different features are different, and arbitrary, then we need to normalize the data.\n",
    "\n",
    "Like in this case for the acceleration values at different time points of the day , the data is needed to be normalized for further analysis."
   ]
  },
  {
   "cell_type": "code",
   "execution_count": 3,
   "metadata": {
    "collapsed": true
   },
   "outputs": [],
   "source": [
    "## Normalize\n",
    "\n",
    "X_scale = preprocessing.scale(x_ax)   # Normalizing acceleration value for time axis\n",
    "Y_scale = preprocessing.scale(y_ax)  # Normalizing acceleration value for x axis\n",
    "\n",
    "Y_scale2 = preprocessing.scale(y_ax2)   # Normalizing acceleration value for y axis\n",
    "Y_scale3 = preprocessing.scale(y_ax3)    # Normalizing acceleration value for z axis\n",
    "\n"
   ]
  },
  {
   "cell_type": "markdown",
   "metadata": {},
   "source": [
    "### Smoothing out the curve - Removing unwanted noise in the curve"
   ]
  },
  {
   "cell_type": "markdown",
   "metadata": {},
   "source": [
    "So the data has many unwanted noise and we want to filter them and thus smoothen the curve.\n",
    "\n",
    "One way of doing it is by using 'Window Method' where we take a window of a particular size and calulating an average of the values within the window.\n",
    "\n",
    "We use the Savitsky-Golay Filter which is a low pass filter which smoothens the curve and reduces noice as far as possible. "
   ]
  },
  {
   "cell_type": "code",
   "execution_count": 4,
   "metadata": {
    "collapsed": true
   },
   "outputs": [],
   "source": [
    "def savitzky_golay(y, window_size, order, deriv=0, rate=1):\n",
    "    r\"\"\"Smooth (and optionally differentiate) data with a Savitzky-Golay filter.\n",
    "    The Savitzky-Golay filter removes high frequency noise from data.\n",
    "    It has the advantage of preserving the original shape and\n",
    "    features of the signal better than other types of filtering\n",
    "    approaches, such as moving averages techniques.\n",
    "    Parameters\n",
    "    ----------\n",
    "    y : array_like, shape (N,)\n",
    "        the values of the time history of the signal.\n",
    "    window_size : int\n",
    "        the length of the window. Must be an odd integer number.\n",
    "    order : int\n",
    "        the order of the polynomial used in the filtering.\n",
    "        Must be less then `window_size` - 1.\n",
    "    deriv: int\n",
    "        the order of the derivative to compute (default = 0 means only smoothing)\n",
    "    Returns\n",
    "    -------\n",
    "    ys : ndarray, shape (N)\n",
    "        the smoothed signal (or it's n-th derivative).\n",
    "    Notes\n",
    "    -----\n",
    "    The Savitzky-Golay is a type of low-pass filter, particularly\n",
    "    suited for smoothing noisy data. The main idea behind this\n",
    "    approach is to make for each point a least-square fit with a\n",
    "    polynomial of high order over a odd-sized window centered at\n",
    "    the point.\n",
    "     \"\"\"\n",
    "    \n",
    "    from math import factorial\n",
    "\n",
    "    try:\n",
    "        window_size = np.abs(np.int(window_size))\n",
    "        order = np.abs(np.int(order))\n",
    "    except ValueError, msg:\n",
    "        raise ValueError(\"window_size and order have to be of type int\")\n",
    "    if window_size % 2 != 1 or window_size < 1:\n",
    "        raise TypeError(\"window_size size must be a positive odd number\")\n",
    "    if window_size < order + 2:\n",
    "        raise TypeError(\"window_size is too small for the polynomials order\")\n",
    "    order_range = range(order+1)\n",
    "    half_window = (window_size -1) // 2\n",
    "    # precompute coefficients\n",
    "    b = np.mat([[k**i for i in order_range] for k in range(-half_window, half_window+1)])\n",
    "    m = np.linalg.pinv(b).A[deriv] * rate**deriv * factorial(deriv)\n",
    "    # pad the signal at the extremes with\n",
    "    # values taken from the signal itself\n",
    "    firstvals = y[0] - np.abs( y[1:half_window+1][::-1] - y[0] )\n",
    "    lastvals = y[-1] + np.abs(y[-half_window-1:-1][::-1] - y[-1])\n",
    "    y = np.concatenate((firstvals, y, lastvals))\n",
    "    return np.convolve( m[::-1], y, mode='valid')\n",
    "\n",
    "\n"
   ]
  },
  {
   "cell_type": "markdown",
   "metadata": {},
   "source": [
    "-----------------------------"
   ]
  },
  {
   "cell_type": "code",
   "execution_count": 6,
   "metadata": {
    "collapsed": false
   },
   "outputs": [
    {
     "data": {
      "image/png": "[encoded data removed]",
      "text/plain": [
       "<matplotlib.figure.Figure at 0xb546128>"
      ]
     },
     "metadata": {},
     "output_type": "display_data"
    },
    {
     "data": {
      "image/png": "[encoded data removed]",
      "text/plain": [
       "<matplotlib.figure.Figure at 0xc12a0b8>"
      ]
     },
     "metadata": {},
     "output_type": "display_data"
    },
    {
     "data": {
      "image/png": "[encoded data removed]",
      "text/plain": [
       "<matplotlib.figure.Figure at 0xc0c7828>"
      ]
     },
     "metadata": {},
     "output_type": "display_data"
    }
   ],
   "source": [
    "xhat = savitzky_golay(Y_scale, 111, 10) # window size 111, polynomial order\n",
    "yhat = savitzky_golay(Y_scale2, 111, 10)\n",
    "zhat = savitzky_golay(Y_scale3, 111, 10)\n",
    "\n",
    "# Plotting the acceleration values bu smoothing data\n",
    "\n",
    "plt.title('For acceleration along X axis')\n",
    "plt.plot(X_scale,xhat,'r')\n",
    "plt.xlabel('Normalized Time')\n",
    "plt.ylabel('Magnitude of Acceleration')\n",
    "plt.show()\n",
    "\n",
    "\n",
    "\n",
    "plt.title('For acceleration along Y axis')\n",
    "plt.plot(X_scale,yhat,'r')\n",
    "plt.xlabel('Normalized Time')\n",
    "plt.ylabel('Magnitude of Acceleration')\n",
    "plt.show()\n",
    "\n",
    "\n",
    "plt.title('For acceleration along Z axis')\n",
    "plt.plot(X_scale,zhat,'r')\n",
    "plt.xlabel('Normalized Time')\n",
    "plt.ylabel('Magnitude of Acceleration')\n",
    "plt.show()\n",
    "\n",
    "\n"
   ]
  },
  {
   "cell_type": "markdown",
   "metadata": {
    "collapsed": true
   },
   "source": [
    "Similarly I plotted the acceleration values for other days."
   ]
  },
  {
   "cell_type": "markdown",
   "metadata": {},
   "source": [
    "### Detecting whether users form a group based on their BSSID levels"
   ]
  },
  {
   "cell_type": "markdown",
   "metadata": {
    "collapsed": true
   },
   "source": [
    "### BSSID , wifi value  \n",
    "\n",
    "Here,  I made some files each containg user_id and their BSSID at different points of time throughout the day.\n",
    "\n",
    "Like wise I created files for the two months data."
   ]
  },
  {
   "cell_type": "code",
   "execution_count": null,
   "metadata": {
    "collapsed": true
   },
   "outputs": [],
   "source": [
    "\n",
    "\"\"\"\n",
    "This code is used to process files for about 57 users on the basis of their wifi data\n",
    "\"\"\"\n",
    "from datetime import datetime\n",
    "import csv\n",
    "import os\n",
    "\n",
    "### Importing the modules\n",
    "\n",
    "# Function for converting the time value in the csv files to Year-Month-Day Format\n",
    "def year(value):\n",
    "\n",
    "    yeartime = datetime.fromtimestamp(int(value)).strftime('%Y:%m:%d')\n",
    "    return yeartime\n",
    "\n",
    "# Function for converting the time value in the csv files to Hours-Minutes-Seconds format\n",
    "def timevalue(value):\n",
    "    time = datetime.fromtimestamp(int(value)).strftime('%H:%M:%S')\n",
    "    return time\n",
    "\n",
    "# --------------------------------------------------------------------------------------------------------------\n",
    "\n",
    "##--- Main part of the Program--------------------------\n",
    "\n",
    "# Creating a string of user ids '00 , 01, 02, 03, O4, 05 ................. 59 '\n",
    "na = [str(i) for i in range(60)]\n",
    "for i in range(len(na)):\n",
    "    if(len(str(na[i])) == 1):\n",
    "        na[i] = '0' + na[i]\n",
    "\n",
    "# CSV Files had no user_ids 06, 11, 21 ,26, 28, 29, 37, 38, 40, 48, 55\n",
    "NOFILES = ['06','11','21','26','28','29','37','38','40','48','55']\n",
    "\n",
    "for flname in range(len(na)):\n",
    "    if na[flname] not in NOFILES:   ## Handling exception if no files of the above unavailable user_ids were detected\n",
    "        filename = 'wifi\\wifi'+ '_u' + na[flname] + '.csv'\n",
    "        lines= []\n",
    "        with open(filename) as f:               ## Opening the CSV files\n",
    "            reader = csv.reader(f, delimiter=' ')\n",
    "            for row in reader:\n",
    "                lines.append(row)         ### Reading through lines from individual a csv file\n",
    "\n",
    "        ## line[] contains a list of the LINES of the CSV file\n",
    "        time =[]\n",
    "        Year = []\n",
    "        NElines = []   # NELines denotes the non-empty lines in the csv file\n",
    "        for i in range(1,len(lines)):\n",
    "            if(lines[i] != [] ):\n",
    "                NElines.append(lines[i])\n",
    "                Year.append(year(int(lines[i][0][0:10])))\n",
    "        ## Year list contains all the dates of that particular CSV file\n",
    "        ## UniqueYear contains distinct dates of that particular file, unlike Year which contains some repetitions in its dates\n",
    "        UniqueYear = list(set(Year))\n",
    "       \n",
    "        p = 'User' + str(na[flname])\n",
    "        os.makedirs(p)\n",
    "        # Make directory of name User00, User01, ........ User59\n",
    "\n",
    "\n",
    "        UniqueYear.sort()  # Sort UniqueYear numerically\n",
    "        Year.sort()    # Sort Year numerically\n",
    "\n",
    "        for i in range(len(UniqueYear)):  # Loop through the UniqueYear\n",
    "            #UniqueYear[i][5:7] = Month -> 04\n",
    "            #UniqueYear[i][8:11] = Day  -> 05                    EXAMPLE = 2013-04-05\n",
    "            #UniqueYear[i][0:4] = Year  -> 2013\n",
    "\n",
    "            name =  p +  '\\ ' + 'wifi_u'+ na[flname] + '_' + UniqueYear[i][5:7] +   UniqueYear[i][8:11] +  UniqueYear[i][0:4] +'.txt'\n",
    "            # name = p\\wifi_u(user_ids)_monthdayyear.txt\n",
    "\n",
    "            fil = open(name, 'a')   # Open textfile with name = directory_name\\wifi_u(user_ids)_monthdayyear.txt\n",
    "            fil = open(name,'w')   # Open the textfile for writing\n",
    "\n",
    "            timetext = []  # Extract the time section from the line\n",
    "            BSSID = []  # Extract the BSSID no. from the line\n",
    "            level = [] # Extract the level from the line\n",
    "\n",
    "            for j in range(len(Year)): # Loop through the whole Year\n",
    "                if(Year[j] == UniqueYear[i]): # If a match occurs then update the corresponding line's time, BSSID and level values\n",
    "\n",
    "                    # --------------EXPLANATION  -------------------------------------------------------------------------------------\n",
    "                    # NElines[j][0][0:10] - Extracting the time values from the csv file. Since each such number in the time column is of length 11, so we are slicing the first 11 characters.\n",
    "                    # NElines[j][0][0:10][0:2] - Hour Part    , NElines[j][0][0:10][3:5] - Minute Part\n",
    "                    # BSSID = NElines[j][0][11: 17+11] , Since Each BSSID values start after the first 11 characters(time value) and has a fixed length = 17 characters\n",
    "                    # level values start after 34 characters and have a length of 3 characters. So level =  NElines[j][0][34:38]\n",
    "\n",
    "                    timetext.append(str( (int(timevalue(NElines[j][0][0:10])[0:2]))*60 +  int(timevalue(NElines[j][0][0:10])[3:5])))\n",
    "                    BSSID.append(NElines[j][0][11: 17+11])\n",
    "                    level.append(NElines[j][0][34:38])\n",
    "\n",
    "\n",
    "            ptim = timetext  # Copying the time section to ptim\n",
    "            bs = BSSID   # Copying the BSSID nos to bs\n",
    "            lve = level  # Copying the level to lve\n",
    "\n",
    "        ## uniquetime contains distinct time(Hours-Minutes) of that particular file, unlike ptim which contains some repetitions in its time values\n",
    "            uniquetime = list(set(ptim))\n",
    "\n",
    "            for h  in range(len(uniquetime)):\n",
    "                uniquetime[h] = int(uniquetime[h])\n",
    "\n",
    "            uniquetime.sort()\n",
    "            ## Sort the uniquetime numerically\n",
    "\n",
    "            listoflines = []  # Lines to be written in the file\n",
    "            for d in range(len(uniquetime)):\n",
    "                t = uniquetime[d]     ## Loop through all the distinct time\n",
    "                xc = ''\n",
    "                for g in range(len(ptim)):\n",
    "\n",
    "                    if(str(t) == ptim[g]):  # Check for matching for time with the values in ptim\n",
    "                        if(bs[g] not in xc): # to check if the same BSSID value is not repeated\n",
    "                            xc+= (',' + bs[g]+ ',' + lve[g])  # then append the BSSID and the level value to the end of the line\n",
    "\n",
    "\n",
    "\n",
    "                listoflines.append('\\n'+str(t)+xc)\n",
    "\n",
    "\n",
    "            fil.writelines(listoflines)  # write the corresponding content in to the file\n",
    "            fil.close()  # close the text file\n",
    "\n",
    "\n",
    "        f.close()   # close the csv file\n"
   ]
  },
  {
   "cell_type": "markdown",
   "metadata": {},
   "source": [
    "---------------------------------------------------------------------------------"
   ]
  },
  {
   "cell_type": "markdown",
   "metadata": {},
   "source": [
    "Given two user datas, we check if the two users are within the same wifi range. \n",
    "Each user at a particular time has upto maximum 6-7 BSSID slots available to him. \n",
    "So we check the BSSID values for each of the two users and calulate the **Jacker Index Coefficient**.\n",
    "\n",
    "\n",
    "**Jacker Index Coefficient** is given by the ratio \n",
    "\n",
    "\n",
    "###  I / U\n",
    "\n",
    "\n",
    "Where \n",
    "\n",
    "- I = Intersection of the BSSID values of two users\n",
    "- U = Union of the BSSID values of two users\n",
    "      \n",
    "\n",
    "\n",
    "\n"
   ]
  },
  {
   "cell_type": "markdown",
   "metadata": {},
   "source": [
    "--------------------------------------------------------------"
   ]
  },
  {
   "cell_type": "markdown",
   "metadata": {},
   "source": [
    "### Proximity of two Users "
   ]
  },
  {
   "cell_type": "markdown",
   "metadata": {},
   "source": [
    "We say that two users are in close proximity if they have a high Jaccard Index Coefficient.\n",
    "\n",
    "This is because higher the intersection of the BSSID values between two users, higher is the chances of the users being in close proximity.\n",
    "\n",
    "So based on this we can check whether users are in close proximity with each other."
   ]
  },
  {
   "cell_type": "markdown",
   "metadata": {},
   "source": [
    "----------------------------------------------------------------"
   ]
  },
  {
   "cell_type": "markdown",
   "metadata": {},
   "source": [
    "In this project we have total 59 users and we have data for two months.\n",
    "\n",
    "So we have files for a particular day and for two specific users from the 59 users.\n",
    "\n",
    "For example,\n",
    "'Wifi_Jaccard_u00_u01_03272013' is a file thay stores the Jaccard Index values and Pearson Coefficient Values for two specific users u00 and u01 throughout the day 27/03/2013.\n",
    "\n",
    "Likewise, we have data files for a particular day and for two specific users."
   ]
  },
  {
   "cell_type": "markdown",
   "metadata": {},
   "source": [
    "### Plotting Jaccard Index and Pearson Coefficient for two users during a particular day.\n",
    "\n",
    "\n"
   ]
  },
  {
   "cell_type": "code",
   "execution_count": null,
   "metadata": {
    "collapsed": true
   },
   "outputs": [],
   "source": [
    "import matplotlib.pyplot as plt\n",
    "import matplotlib.patches as mpatches\n",
    "from matplotlib.font_manager import FontProperties\n",
    "import numpy as np\n",
    "import os\n",
    "from glob import glob\n",
    "\n",
    "p = 'JCPearsonPlots2'\n",
    "os.makedirs(p)\n",
    "main_directory = 'JC'\n",
    "\n",
    "files_list = glob(os.path.join('JC1\\JC', '*.txt'))\n",
    "for a_file in sorted(files_list):\n",
    "    #print(a_file)\n",
    "    filename = a_file\n",
    "    fil = open(filename, 'r')\n",
    "    lines = []\n",
    "    lines.append(fil.readlines())\n",
    "    textlines = []\n",
    "    for i in range(len(lines[0])):\n",
    "        textlines.append( lines[0][i].split(\",\"))\n",
    "\n",
    "    time  = []\n",
    "    JC = []\n",
    "    Pearson_coefficient  = []\n",
    "    for j in range(len(textlines)):\n",
    "        time.append(textlines[j][0])  # appending the time index\n",
    "        JC.append(textlines[j][1])    # appending the Jaccard Index coefficient for that particular time\n",
    "        Pearson_coefficient.append(textlines[j][2])  # appending the Pearson coefficient for that particular time\n",
    "\n",
    "    for k in range(len(time)):\n",
    "        time[k] = int(time[k])  # converting to int\n",
    "    for k in range(len(JC)):\n",
    "        JC[k] = float(JC[k])  # converting to float\n",
    "    for k in range(len(Pearson_coefficient)):\n",
    "        Pearson_coefficient[k] = float(Pearson_coefficient[k])\n",
    "    # Plotting\n",
    "\n",
    "    plot1, = plt.plot(time,JC, 'o', linewidth = '4',color = 'red' ,label = 'JC')\n",
    "    plot2, = plt.plot(time,Pearson_coefficient,'o',color = 'green' ,label = 'PC' ,linewidth = '5')\n",
    "    \n",
    "    plt.legend([plot1,plot2],[\"JaccardIndex\", \"PearsoncCoeff.\"], loc='upper left')\n",
    "    plt.xticks([0, 180,360,540,720,900,1080,1260,1440])\n",
    "    plt.xlabel('Time')\n",
    "    plt.ylabel('JaccardIndex  &  PearsonCoeff.')\n",
    "    plt.grid(animated = True)\n",
    "    \n",
    "    # Saving the plots\n",
    "    name = a_file\n",
    "    afile = a_file.replace('.txt','.png')\n",
    "    Afil = afile.replace('JC\\\\','')\n",
    "    A_fil = Afil.replace('JC1\\\\','')\n",
    "    fileplot = p + '\\ ' + A_fil\n",
    "    plt.savefig(fileplot, dpi = 150)\n",
    "    plt.close()\n"
   ]
  },
  {
   "cell_type": "markdown",
   "metadata": {},
   "source": [
    "-------------------------------------------------------------------------------------------"
   ]
  },
  {
   "cell_type": "markdown",
   "metadata": {},
   "source": [
    "### Some plots of Jaccard Index and Pearson Coefficient "
   ]
  },
  {
   "cell_type": "markdown",
   "metadata": {
    "collapsed": true
   },
   "source": [
    "![](https://raw.githubusercontent.com/prateekiiest/Student-Group-Activity-Recognition/master/%20Wifi_Jaccard_u00_u01_03272013.png)"
   ]
  },
  {
   "cell_type": "markdown",
   "metadata": {
    "collapsed": true
   },
   "source": [
    "                         JaccardIndex and Pearson Coefficient for User 00 and User 01 on 27 March 2013"
   ]
  },
  {
   "cell_type": "markdown",
   "metadata": {},
   "source": [
    "--------------------------------------------------------------------------------"
   ]
  },
  {
   "cell_type": "markdown",
   "metadata": {
    "collapsed": true
   },
   "source": [
    "![](https://raw.githubusercontent.com/prateekiiest/Student-Group-Activity-Recognition/master/%20Wifi_Jaccard_u00_u01_03292013.png)"
   ]
  },
  {
   "cell_type": "markdown",
   "metadata": {},
   "source": [
    "                         JaccardIndex and Pearson Coefficient for User 00 and User 01 on 29 March 2013"
   ]
  },
  {
   "cell_type": "markdown",
   "metadata": {},
   "source": [
    "-------------------------------------------------------------"
   ]
  },
  {
   "cell_type": "markdown",
   "metadata": {},
   "source": [
    "---------------------------------------------------------------------------------"
   ]
  },
  {
   "cell_type": "markdown",
   "metadata": {},
   "source": [
    "We now plot the groups formed at different points of time throughout the day.\n",
    "\n",
    "We check for the characteristics of the users of the group."
   ]
  },
  {
   "cell_type": "code",
   "execution_count": 73,
   "metadata": {
    "collapsed": true
   },
   "outputs": [],
   "source": [
    "from bokeh.plotting import figure, output_file, show, ColumnDataSource,save\n",
    "from bokeh.models import HoverTool\n",
    "import matplotlib.pyplot as plt\n",
    "import matplotlib.patches as mpatches\n",
    "from matplotlib.font_manager import FontProperties\n",
    "import numpy as np\n",
    "import os\n",
    "from glob import glob\n",
    "from bokeh.io import output_notebook\n",
    "from bokeh.palettes import inferno\n",
    "\n",
    "f = open('ProximityData\\\\groups_05242013.txt','r')\n",
    "lines = []\n",
    "lines.append(f.readlines())\n",
    "textlines = []\n",
    "for i in range(len(lines[0])): \n",
    "    textlines.append( lines[0][i].split(\"|\"))\n",
    "    \n",
    "# Reading data from the file\n",
    "\n",
    "time = []\n",
    "for i in range(len(textlines)):\n",
    "    time.append((int(textlines[i][0])))    # Storing the time index\n",
    "\n",
    "group = [[] for h in range(len(time))]\n",
    "for i in range(len(textlines)):\n",
    "    for p in range(1,len(textlines[i])-1):\n",
    "        group[i].append((textlines[i][p]))  # Storing the groups that were formed inside a list.\n",
    "        \n",
    "for k in range(len(group)):\n",
    "    for p in range(len(group[k])):\n",
    "        group[k][p] = group[k][p].replace('u','')\n",
    "        \n",
    "f.close()"
   ]
  },
  {
   "cell_type": "code",
   "execution_count": 74,
   "metadata": {
    "collapsed": false
   },
   "outputs": [],
   "source": [
    "na = [i for i in range(60)]\n",
    "use= []\n",
    "for j in range(len(na)):       # user ids are like 08, 09. We convert it to u08, u09\n",
    "    if(len(str(na[j])) == 1):\n",
    "        use.append('0'+ str(na[j]))\n",
    "    else:\n",
    "        use.append(str(na[j]))        \n",
    "\n",
    "for k in range(len(use)):\n",
    "    use[k] = 'u' + use[k]  \n",
    "\n",
    "\n",
    "color_palette = inferno(60)         # Adding colors to the plot \n",
    "colors = {use[u] : color_palette[u] for u in range(len(use))}\n",
    "\n"
   ]
  },
  {
   "cell_type": "code",
   "execution_count": 8,
   "metadata": {
    "collapsed": false
   },
   "outputs": [
    {
     "data": {
      "text/html": [
       "\n",
       "    <div class=\"bk-root\">\n",
       "        <a href=\"http://bokeh.pydata.org\" target=\"_blank\" class=\"bk-logo bk-logo-small bk-logo-notebook\"></a>\n",
       "        <span id=\"05341dbc-1e26-4869-af13-a459fb89b4c0\">Loading BokehJS ...</span>\n",
       "    </div>"
      ]
     },
     "metadata": {},
     "output_type": "display_data"
    },
    {
     "data": {
      "application/javascript": [
       "\n",
       "(function(global) {\n",
       "  function now() {\n",
       "    return new Date();\n",
       "  }\n",
       "\n",
       "  var force = true;\n",
       "\n",
       "  if (typeof (window._bokeh_onload_callbacks) === \"undefined\" || force === true) {\n",
       "    window._bokeh_onload_callbacks = [];\n",
       "    window._bokeh_is_loading = undefined;\n",
       "  }\n",
       "\n",
       "\n",
       "  \n",
       "  if (typeof (window._bokeh_timeout) === \"undefined\" || force === true) {\n",
       "    window._bokeh_timeout = Date.now() + 5000;\n",
       "    window._bokeh_failed_load = false;\n",
       "  }\n",
       "\n",
       "  var NB_LOAD_WARNING = {'data': {'text/html':\n",
       "     \"<div style='background-color: #fdd'>\\n\"+\n",
       "     \"<p>\\n\"+\n",
       "     \"BokehJS does not appear to have successfully loaded. If loading BokehJS from CDN, this \\n\"+\n",
       "     \"may be due to a slow or bad network connection. Possible fixes:\\n\"+\n",
       "     \"</p>\\n\"+\n",
       "     \"<ul>\\n\"+\n",
       "     \"<li>re-rerun `output_notebook()` to attempt to load from CDN again, or</li>\\n\"+\n",
       "     \"<li>use INLINE resources instead, as so:</li>\\n\"+\n",
       "     \"</ul>\\n\"+\n",
       "     \"<code>\\n\"+\n",
       "     \"from bokeh.resources import INLINE\\n\"+\n",
       "     \"output_notebook(resources=INLINE)\\n\"+\n",
       "     \"</code>\\n\"+\n",
       "     \"</div>\"}};\n",
       "\n",
       "  function display_loaded() {\n",
       "    if (window.Bokeh !== undefined) {\n",
       "      var el = document.getElementById(\"05341dbc-1e26-4869-af13-a459fb89b4c0\");\n",
       "      el.textContent = \"BokehJS \" + Bokeh.version + \" successfully loaded.\";\n",
       "    } else if (Date.now() < window._bokeh_timeout) {\n",
       "      setTimeout(display_loaded, 100)\n",
       "    }\n",
       "  }\n",
       "\n",
       "  function run_callbacks() {\n",
       "    window._bokeh_onload_callbacks.forEach(function(callback) { callback() });\n",
       "    delete window._bokeh_onload_callbacks\n",
       "    console.info(\"Bokeh: all callbacks have finished\");\n",
       "  }\n",
       "\n",
       "  function load_libs(js_urls, callback) {\n",
       "    window._bokeh_onload_callbacks.push(callback);\n",
       "    if (window._bokeh_is_loading > 0) {\n",
       "      console.log(\"Bokeh: BokehJS is being loaded, scheduling callback at\", now());\n",
       "      return null;\n",
       "    }\n",
       "    if (js_urls == null || js_urls.length === 0) {\n",
       "      run_callbacks();\n",
       "      return null;\n",
       "    }\n",
       "    console.log(\"Bokeh: BokehJS not loaded, scheduling load and callback at\", now());\n",
       "    window._bokeh_is_loading = js_urls.length;\n",
       "    for (var i = 0; i < js_urls.length; i++) {\n",
       "      var url = js_urls[i];\n",
       "      var s = document.createElement('script');\n",
       "      s.src = url;\n",
       "      s.async = false;\n",
       "      s.onreadystatechange = s.onload = function() {\n",
       "        window._bokeh_is_loading--;\n",
       "        if (window._bokeh_is_loading === 0) {\n",
       "          console.log(\"Bokeh: all BokehJS libraries loaded\");\n",
       "          run_callbacks()\n",
       "        }\n",
       "      };\n",
       "      s.onerror = function() {\n",
       "        console.warn(\"failed to load library \" + url);\n",
       "      };\n",
       "      console.log(\"Bokeh: injecting script tag for BokehJS library: \", url);\n",
       "      document.getElementsByTagName(\"head\")[0].appendChild(s);\n",
       "    }\n",
       "  };var element = document.getElementById(\"05341dbc-1e26-4869-af13-a459fb89b4c0\");\n",
       "  if (element == null) {\n",
       "    console.log(\"Bokeh: ERROR: autoload.js configured with elementid '05341dbc-1e26-4869-af13-a459fb89b4c0' but no matching script tag was found. \")\n",
       "    return false;\n",
       "  }\n",
       "\n",
       "  var js_urls = [\"https://cdn.pydata.org/bokeh/release/bokeh-0.12.5.min.js\", \"https://cdn.pydata.org/bokeh/release/bokeh-widgets-0.12.5.min.js\"];\n",
       "\n",
       "  var inline_js = [\n",
       "    function(Bokeh) {\n",
       "      Bokeh.set_log_level(\"info\");\n",
       "    },\n",
       "    \n",
       "    function(Bokeh) {\n",
       "      \n",
       "    },\n",
       "    \n",
       "    function(Bokeh) {\n",
       "      \n",
       "      document.getElementById(\"05341dbc-1e26-4869-af13-a459fb89b4c0\").textContent = \"BokehJS is loading...\";\n",
       "    },\n",
       "    function(Bokeh) {\n",
       "      console.log(\"Bokeh: injecting CSS: https://cdn.pydata.org/bokeh/release/bokeh-0.12.5.min.css\");\n",
       "      Bokeh.embed.inject_css(\"https://cdn.pydata.org/bokeh/release/bokeh-0.12.5.min.css\");\n",
       "      console.log(\"Bokeh: injecting CSS: https://cdn.pydata.org/bokeh/release/bokeh-widgets-0.12.5.min.css\");\n",
       "      Bokeh.embed.inject_css(\"https://cdn.pydata.org/bokeh/release/bokeh-widgets-0.12.5.min.css\");\n",
       "    }\n",
       "  ];\n",
       "\n",
       "  function run_inline_js() {\n",
       "    \n",
       "    if ((window.Bokeh !== undefined) || (force === true)) {\n",
       "      for (var i = 0; i < inline_js.length; i++) {\n",
       "        inline_js[i](window.Bokeh);\n",
       "      }if (force === true) {\n",
       "        display_loaded();\n",
       "      }} else if (Date.now() < window._bokeh_timeout) {\n",
       "      setTimeout(run_inline_js, 100);\n",
       "    } else if (!window._bokeh_failed_load) {\n",
       "      console.log(\"Bokeh: BokehJS failed to load within specified timeout.\");\n",
       "      window._bokeh_failed_load = true;\n",
       "    } else if (force !== true) {\n",
       "      var cell = $(document.getElementById(\"05341dbc-1e26-4869-af13-a459fb89b4c0\")).parents('.cell').data().cell;\n",
       "      cell.output_area.append_execute_result(NB_LOAD_WARNING)\n",
       "    }\n",
       "\n",
       "  }\n",
       "\n",
       "  if (window._bokeh_is_loading === 0) {\n",
       "    console.log(\"Bokeh: BokehJS loaded, going straight to plotting\");\n",
       "    run_inline_js();\n",
       "  } else {\n",
       "    load_libs(js_urls, function() {\n",
       "      console.log(\"Bokeh: BokehJS plotting callback run at\", now());\n",
       "      run_inline_js();\n",
       "    });\n",
       "  }\n",
       "}(this));"
      ]
     },
     "metadata": {},
     "output_type": "display_data"
    }
   ],
   "source": [
    "output_notebook()"
   ]
  },
  {
   "cell_type": "code",
   "execution_count": 75,
   "metadata": {
    "collapsed": false
   },
   "outputs": [
    {
     "data": {
      "text/html": [
       "\n",
       "\n",
       "    <div class=\"bk-root\">\n",
       "        <div class=\"bk-plotdiv\" id=\"3ca1a212-af19-4795-b922-8997056b09ea\"></div>\n",
       "    </div>\n",
       "<script type=\"text/javascript\">\n",
       "  \n",
       "  (function(global) {\n",
       "    function now() {\n",
       "      return new Date();\n",
       "    }\n",
       "  \n",
       "    var force = false;\n",
       "  \n",
       "    if (typeof (window._bokeh_onload_callbacks) === \"undefined\" || force === true) {\n",
       "      window._bokeh_onload_callbacks = [];\n",
       "      window._bokeh_is_loading = undefined;\n",
       "    }\n",
       "  \n",
       "  \n",
       "    \n",
       "    if (typeof (window._bokeh_timeout) === \"undefined\" || force === true) {\n",
       "      window._bokeh_timeout = Date.now() + 0;\n",
       "      window._bokeh_failed_load = false;\n",
       "    }\n",
       "  \n",
       "    var NB_LOAD_WARNING = {'data': {'text/html':\n",
       "       \"<div style='background-color: #fdd'>\\n\"+\n",
       "       \"<p>\\n\"+\n",
       "       \"BokehJS does not appear to have successfully loaded. If loading BokehJS from CDN, this \\n\"+\n",
       "       \"may be due to a slow or bad network connection. Possible fixes:\\n\"+\n",
       "       \"</p>\\n\"+\n",
       "       \"<ul>\\n\"+\n",
       "       \"<li>re-rerun `output_notebook()` to attempt to load from CDN again, or</li>\\n\"+\n",
       "       \"<li>use INLINE resources instead, as so:</li>\\n\"+\n",
       "       \"</ul>\\n\"+\n",
       "       \"<code>\\n\"+\n",
       "       \"from bokeh.resources import INLINE\\n\"+\n",
       "       \"output_notebook(resources=INLINE)\\n\"+\n",
       "       \"</code>\\n\"+\n",
       "       \"</div>\"}};\n",
       "  \n",
       "    function display_loaded() {\n",
       "      if (window.Bokeh !== undefined) {\n",
       "        var el = document.getElementById(\"3ca1a212-af19-4795-b922-8997056b09ea\");\n",
       "        el.textContent = \"BokehJS \" + Bokeh.version + \" successfully loaded.\";\n",
       "      } else if (Date.now() < window._bokeh_timeout) {\n",
       "        setTimeout(display_loaded, 100)\n",
       "      }\n",
       "    }\n",
       "  \n",
       "    function run_callbacks() {\n",
       "      window._bokeh_onload_callbacks.forEach(function(callback) { callback() });\n",
       "      delete window._bokeh_onload_callbacks\n",
       "      console.info(\"Bokeh: all callbacks have finished\");\n",
       "    }\n",
       "  \n",
       "    function load_libs(js_urls, callback) {\n",
       "      window._bokeh_onload_callbacks.push(callback);\n",
       "      if (window._bokeh_is_loading > 0) {\n",
       "        console.log(\"Bokeh: BokehJS is being loaded, scheduling callback at\", now());\n",
       "        return null;\n",
       "      }\n",
       "      if (js_urls == null || js_urls.length === 0) {\n",
       "        run_callbacks();\n",
       "        return null;\n",
       "      }\n",
       "      console.log(\"Bokeh: BokehJS not loaded, scheduling load and callback at\", now());\n",
       "      window._bokeh_is_loading = js_urls.length;\n",
       "      for (var i = 0; i < js_urls.length; i++) {\n",
       "        var url = js_urls[i];\n",
       "        var s = document.createElement('script');\n",
       "        s.src = url;\n",
       "        s.async = false;\n",
       "        s.onreadystatechange = s.onload = function() {\n",
       "          window._bokeh_is_loading--;\n",
       "          if (window._bokeh_is_loading === 0) {\n",
       "            console.log(\"Bokeh: all BokehJS libraries loaded\");\n",
       "            run_callbacks()\n",
       "          }\n",
       "        };\n",
       "        s.onerror = function() {\n",
       "          console.warn(\"failed to load library \" + url);\n",
       "        };\n",
       "        console.log(\"Bokeh: injecting script tag for BokehJS library: \", url);\n",
       "        document.getElementsByTagName(\"head\")[0].appendChild(s);\n",
       "      }\n",
       "    };var element = document.getElementById(\"3ca1a212-af19-4795-b922-8997056b09ea\");\n",
       "    if (element == null) {\n",
       "      console.log(\"Bokeh: ERROR: autoload.js configured with elementid '3ca1a212-af19-4795-b922-8997056b09ea' but no matching script tag was found. \")\n",
       "      return false;\n",
       "    }\n",
       "  \n",
       "    var js_urls = [];\n",
       "  \n",
       "    var inline_js = [\n",
       "      function(Bokeh) {\n",
       "        (function() {\n",
       "          var fn = function() {\n",
       "            var docs_json = {\"0003dc78-f773-474e-9679-8928df3af4c1\":{\"roots\":{\"references\":[{\"attributes\":{},\"id\":\"2c617eb7-afe0-41bc-abd3-e20439627257\",\"type\":\"BasicTickFormatter\"},{\"attributes\":{\"callback\":null},\"id\":\"c0c0584d-176a-453a-ad3c-9791d80e7492\",\"type\":\"DataRange1d\"},{\"attributes\":{\"dimension\":1,\"plot\":{\"id\":\"af27874b-2ec2-46ee-8026-7d989650bbfa\",\"subtype\":\"Figure\",\"type\":\"Plot\"},\"ticker\":{\"id\":\"60c3ac60-53cc-4ad9-b02c-8aa3833ac108\",\"type\":\"BasicTicker\"}},\"id\":\"810626d8-d6ce-4481-9f09-f35006efbfe8\",\"type\":\"Grid\"},{\"attributes\":{\"axis_label\":\"At Time 0\",\"formatter\":{\"id\":\"2c617eb7-afe0-41bc-abd3-e20439627257\",\"type\":\"BasicTickFormatter\"},\"plot\":{\"id\":\"af27874b-2ec2-46ee-8026-7d989650bbfa\",\"subtype\":\"Figure\",\"type\":\"Plot\"},\"ticker\":{\"id\":\"88aefb20-72b6-49c9-94d6-d1043f3baead\",\"type\":\"BasicTicker\"}},\"id\":\"0828c60d-9afa-41b3-9a31-0905b20ddf1d\",\"type\":\"LinearAxis\"},{\"attributes\":{\"data_source\":{\"id\":\"eb2a3529-4db1-472a-803f-8fdfa1fcc64b\",\"type\":\"ColumnDataSource\"},\"glyph\":{\"id\":\"c9d5de01-34b1-4507-bcfa-627fd2c40df2\",\"type\":\"Circle\"},\"hover_glyph\":null,\"muted_glyph\":null,\"nonselection_glyph\":{\"id\":\"0ac2cfdf-e407-4ac4-9f8a-17303ddd736f\",\"type\":\"Circle\"},\"selection_glyph\":null},\"id\":\"57b3e972-ec07-4077-aa63-12a93c32afe8\",\"type\":\"GlyphRenderer\"},{\"attributes\":{\"fill_color\":{\"field\":\"fill_color\"},\"line_color\":{\"value\":\"#1f77b4\"},\"size\":{\"units\":\"screen\",\"value\":15},\"x\":{\"field\":\"x\"},\"y\":{\"field\":\"y\"}},\"id\":\"c9d5de01-34b1-4507-bcfa-627fd2c40df2\",\"type\":\"Circle\"},{\"attributes\":{\"fill_alpha\":{\"value\":0.1},\"fill_color\":{\"value\":\"#1f77b4\"},\"line_alpha\":{\"value\":0.1},\"line_color\":{\"value\":\"#1f77b4\"},\"size\":{\"units\":\"screen\",\"value\":15},\"x\":{\"field\":\"x\"},\"y\":{\"field\":\"y\"}},\"id\":\"0ac2cfdf-e407-4ac4-9f8a-17303ddd736f\",\"type\":\"Circle\"},{\"attributes\":{\"callback\":null,\"column_names\":[\"y\",\"x\",\"fill_color\",\"User_groups\"],\"data\":{\"User_groups\":[\"02\",\"31\",\"13\",\"36\"],\"fill_color\":[\"#030212\",\"#C23B4F\",\"#4A0B6A\",\"#DE5337\"],\"x\":[1,1,2,2],\"y\":[0,1,0,1]}},\"id\":\"eb2a3529-4db1-472a-803f-8fdfa1fcc64b\",\"type\":\"ColumnDataSource\"},{\"attributes\":{\"callback\":null,\"plot\":{\"id\":\"af27874b-2ec2-46ee-8026-7d989650bbfa\",\"subtype\":\"Figure\",\"type\":\"Plot\"},\"tooltips\":[[\"User_groups\",\"@User_groups\"],[\"fill color\",\"$color[hex, swatch]:fill_color\"],[\"time\",\"$x\"]]},\"id\":\"17fc4b12-698f-492c-b7b0-7c25b8b0d421\",\"type\":\"HoverTool\"},{\"attributes\":{},\"id\":\"60c3ac60-53cc-4ad9-b02c-8aa3833ac108\",\"type\":\"BasicTicker\"},{\"attributes\":{},\"id\":\"19d3e124-86be-46cf-badf-14b0f796ca5a\",\"type\":\"BasicTickFormatter\"},{\"attributes\":{},\"id\":\"171f015c-4d28-47a4-a07a-94cc00b521d0\",\"type\":\"ToolEvents\"},{\"attributes\":{\"below\":[{\"id\":\"0828c60d-9afa-41b3-9a31-0905b20ddf1d\",\"type\":\"LinearAxis\"}],\"left\":[{\"id\":\"e63c0b36-4ae9-4d75-aec3-d3bf820955a0\",\"type\":\"LinearAxis\"}],\"plot_height\":400,\"plot_width\":400,\"renderers\":[{\"id\":\"0828c60d-9afa-41b3-9a31-0905b20ddf1d\",\"type\":\"LinearAxis\"},{\"id\":\"f681ec3a-1a7c-4959-88e9-7e7022109fe6\",\"type\":\"Grid\"},{\"id\":\"e63c0b36-4ae9-4d75-aec3-d3bf820955a0\",\"type\":\"LinearAxis\"},{\"id\":\"810626d8-d6ce-4481-9f09-f35006efbfe8\",\"type\":\"Grid\"},{\"id\":\"57b3e972-ec07-4077-aa63-12a93c32afe8\",\"type\":\"GlyphRenderer\"}],\"title\":{\"id\":\"de2830ce-90d3-4578-b539-7f0e759ef91d\",\"type\":\"Title\"},\"tool_events\":{\"id\":\"171f015c-4d28-47a4-a07a-94cc00b521d0\",\"type\":\"ToolEvents\"},\"toolbar\":{\"id\":\"bbf1e7fb-1320-4aae-8f8b-ec1052eeccd2\",\"type\":\"Toolbar\"},\"x_range\":{\"id\":\"f99fbbc0-f839-4f2f-a327-0b2d9de1bfa9\",\"type\":\"DataRange1d\"},\"y_range\":{\"id\":\"c0c0584d-176a-453a-ad3c-9791d80e7492\",\"type\":\"DataRange1d\"}},\"id\":\"af27874b-2ec2-46ee-8026-7d989650bbfa\",\"subtype\":\"Figure\",\"type\":\"Plot\"},{\"attributes\":{\"plot\":{\"id\":\"af27874b-2ec2-46ee-8026-7d989650bbfa\",\"subtype\":\"Figure\",\"type\":\"Plot\"},\"ticker\":{\"id\":\"88aefb20-72b6-49c9-94d6-d1043f3baead\",\"type\":\"BasicTicker\"}},\"id\":\"f681ec3a-1a7c-4959-88e9-7e7022109fe6\",\"type\":\"Grid\"},{\"attributes\":{\"plot\":null,\"text\":\"Mouse over the dots\"},\"id\":\"de2830ce-90d3-4578-b539-7f0e759ef91d\",\"type\":\"Title\"},{\"attributes\":{\"callback\":null},\"id\":\"f99fbbc0-f839-4f2f-a327-0b2d9de1bfa9\",\"type\":\"DataRange1d\"},{\"attributes\":{\"active_drag\":\"auto\",\"active_scroll\":\"auto\",\"active_tap\":\"auto\",\"tools\":[{\"id\":\"17fc4b12-698f-492c-b7b0-7c25b8b0d421\",\"type\":\"HoverTool\"}]},\"id\":\"bbf1e7fb-1320-4aae-8f8b-ec1052eeccd2\",\"type\":\"Toolbar\"},{\"attributes\":{\"formatter\":{\"id\":\"19d3e124-86be-46cf-badf-14b0f796ca5a\",\"type\":\"BasicTickFormatter\"},\"plot\":{\"id\":\"af27874b-2ec2-46ee-8026-7d989650bbfa\",\"subtype\":\"Figure\",\"type\":\"Plot\"},\"ticker\":{\"id\":\"60c3ac60-53cc-4ad9-b02c-8aa3833ac108\",\"type\":\"BasicTicker\"}},\"id\":\"e63c0b36-4ae9-4d75-aec3-d3bf820955a0\",\"type\":\"LinearAxis\"},{\"attributes\":{},\"id\":\"88aefb20-72b6-49c9-94d6-d1043f3baead\",\"type\":\"BasicTicker\"}],\"root_ids\":[\"af27874b-2ec2-46ee-8026-7d989650bbfa\"]},\"title\":\"Bokeh Application\",\"version\":\"0.12.5\"}};\n",
       "            var render_items = [{\"docid\":\"0003dc78-f773-474e-9679-8928df3af4c1\",\"elementid\":\"3ca1a212-af19-4795-b922-8997056b09ea\",\"modelid\":\"af27874b-2ec2-46ee-8026-7d989650bbfa\"}];\n",
       "            \n",
       "            Bokeh.embed.embed_items(docs_json, render_items);\n",
       "          };\n",
       "          if (document.readyState != \"loading\") fn();\n",
       "          else document.addEventListener(\"DOMContentLoaded\", fn);\n",
       "        })();\n",
       "      },\n",
       "      function(Bokeh) {\n",
       "      }\n",
       "    ];\n",
       "  \n",
       "    function run_inline_js() {\n",
       "      \n",
       "      if ((window.Bokeh !== undefined) || (force === true)) {\n",
       "        for (var i = 0; i < inline_js.length; i++) {\n",
       "          inline_js[i](window.Bokeh);\n",
       "        }if (force === true) {\n",
       "          display_loaded();\n",
       "        }} else if (Date.now() < window._bokeh_timeout) {\n",
       "        setTimeout(run_inline_js, 100);\n",
       "      } else if (!window._bokeh_failed_load) {\n",
       "        console.log(\"Bokeh: BokehJS failed to load within specified timeout.\");\n",
       "        window._bokeh_failed_load = true;\n",
       "      } else if (force !== true) {\n",
       "        var cell = $(document.getElementById(\"3ca1a212-af19-4795-b922-8997056b09ea\")).parents('.cell').data().cell;\n",
       "        cell.output_area.append_execute_result(NB_LOAD_WARNING)\n",
       "      }\n",
       "  \n",
       "    }\n",
       "  \n",
       "    if (window._bokeh_is_loading === 0) {\n",
       "      console.log(\"Bokeh: BokehJS loaded, going straight to plotting\");\n",
       "      run_inline_js();\n",
       "    } else {\n",
       "      load_libs(js_urls, function() {\n",
       "        console.log(\"Bokeh: BokehJS plotting callback run at\", now());\n",
       "        run_inline_js();\n",
       "      });\n",
       "    }\n",
       "  }(this));\n",
       "</script>"
      ]
     },
     "metadata": {},
     "output_type": "display_data"
    },
    {
     "data": {
      "text/plain": [
       "'C:\\\\Users\\\\pratik\\\\Anaconda2\\\\lib\\\\runpy.html'"
      ]
     },
     "execution_count": 75,
     "metadata": {},
     "output_type": "execute_result"
    }
   ],
   "source": [
    "i = 0    \n",
    "#output_file('toolbar.html')\n",
    "user_group = ''\n",
    "for kj in range(len(group[i])):\n",
    "    user_group += ',' + group[i][kj]\n",
    "\n",
    "h =  user_group.split(\",\")   \n",
    "totaluser = len(h) - 1\n",
    "\n",
    "# processing done for x_Axis\n",
    "ck= []\n",
    "ck.append(time[i])\n",
    "v = ck * totaluser\n",
    "\n",
    "xaxis = [j for j in range(1,len(group[i]) + 1)]  # x_axis as an array - denotes the no of groups formed at that time\n",
    "\n",
    "\n",
    "yaxis = [len(group[i][hj].split(\",\")) for hj in range(len(group[i]))]  # denotes the member of a particular group at that time.\n",
    "\n",
    "\n",
    "\n",
    "\n",
    "yt = [range(yaxis[k]) for k in range(len(yaxis))]\n",
    "\n",
    "s = yt[0]\n",
    "for hg in range(1,len(yt)):\n",
    "    s += yt[hg]\n",
    "xax = []   \n",
    "for bh in range(len(xaxis)):\n",
    "    cp = []\n",
    "    cp.append(xaxis[bh])\n",
    "    vp = cp * yaxis[bh]\n",
    "    xax.append(vp)\n",
    "# Processing data for x and y axis in the plot.\n",
    "xs = xax[0]\n",
    "for hg in range(1,len(xax)):\n",
    "    xs += xax[hg]\n",
    "for g in range(len(h)):\n",
    "    h[g] = h[g].replace(\" \",\"\")\n",
    "#userlok.append([h[kl] for kl in range(1,len(h))])\n",
    "source = ColumnDataSource(\n",
    "        data=dict(\n",
    "            x= xs,  # xaxis\n",
    "            y= s,  # yaxis\n",
    "            #desc=['A', 'b', 'C', 'd', 'E'],\n",
    "            fill_color= [colors['u'+ h[kl]] for kl in range(1,len(h))], # giving unique color to each member of a group\n",
    "            User_groups=[h[kl] for kl in range(1,len(h))]  # denoting the usergroups (members of the group)\n",
    "        )\n",
    "    )\n",
    "\n",
    "# Hover options for Interactive Plot\n",
    "hover = HoverTool(\n",
    "        tooltips=[  \n",
    "            (\"User_groups\", \"@User_groups\"),\n",
    "            (\"fill color\", \"$color[hex, swatch]:fill_color\"),\n",
    "            (\"time\", \"$x\"),\n",
    "\n",
    "        ]\n",
    "    )\n",
    "\n",
    "p = figure(plot_width=400, plot_height=400, tools=[hover],\n",
    "           title=\"Mouse over the dots\", x_axis_label = 'At Time ' + str(time[i]))\n",
    "\n",
    "\n",
    "p.circle('x', 'y', size=15, source=source,fill_color = 'fill_color')\n",
    "\n",
    "\n",
    "\n",
    "#p.yaxis.visible = False\n",
    "\n",
    "\n",
    "show(p)\n",
    "save(p)"
   ]
  },
  {
   "cell_type": "markdown",
   "metadata": {},
   "source": [
    "For Data on 05242013 at Time 0\n",
    "![](https://raw.githubusercontent.com/prateekiiest/Student-Group-Activity-Recognition/master/UsergroupPlot05242013.png)\n",
    "\n",
    "\n",
    "Similarily for data on 05292013 at Time 0\n",
    "\n",
    "![](https://raw.githubusercontent.com/prateekiiest/Student-Group-Activity-Recognition/master/UsergroupPlot.png)"
   ]
  },
  {
   "cell_type": "markdown",
   "metadata": {},
   "source": [
    "Analysing data on 05292013 at Time 0\n",
    "\n",
    "##### Left\n",
    "user 57 - yellow\n",
    "user 36 - red\n",
    "user 13 - Violet\n",
    "\n",
    "They form one group at Time 0\n",
    "\n",
    "\n",
    "\n",
    "##### Right\n",
    "Similarily,\n",
    "\n",
    "user 22 -  light violet\n",
    "user 05 - deep blue"
   ]
  },
  {
   "cell_type": "markdown",
   "metadata": {},
   "source": [
    "------------------------------------------------"
   ]
  },
  {
   "cell_type": "markdown",
   "metadata": {},
   "source": [
    "##### Checking the number of class attendess during that particular day.  In this case for day 05242013."
   ]
  },
  {
   "cell_type": "code",
   "execution_count": 76,
   "metadata": {
    "collapsed": true
   },
   "outputs": [],
   "source": [
    "userlok = []\n",
    "for i in range(600,665):  # class timings are from 600 - 665 minutes\n",
    "    #output_file('toolbar.html')\n",
    "    user_group = ''\n",
    "    for kj in range(len(group[i])):\n",
    "        user_group += ',' + group[i][kj]\n",
    "\n",
    "    h =  user_group.split(\",\")   \n",
    "    totaluser = len(h) - 1\n",
    "\n",
    "    ck= []\n",
    "    ck.append(time[i])\n",
    "    v = ck * totaluser\n",
    "\n",
    "    xaxis = [j for j in range(1,len(group[i]) + 1)]\n",
    "\n",
    "\n",
    "    yaxis = [len(group[i][hj].split(\",\")) for hj in range(len(group[i]))]\n",
    "\n",
    "\n",
    "\n",
    "\n",
    "    yt = [range(yaxis[k]) for k in range(len(yaxis))]\n",
    "\n",
    "    s = yt[0]\n",
    "    for hg in range(1,len(yt)):\n",
    "        s += yt[hg]\n",
    "    xax = []   \n",
    "    for bh in range(len(xaxis)):\n",
    "        cp = []\n",
    "        cp.append(xaxis[bh])\n",
    "        vp = cp * yaxis[bh]\n",
    "        xax.append(vp)\n",
    "\n",
    "    xs = xax[0]\n",
    "    for hg in range(1,len(xax)):\n",
    "        xs += xax[hg]\n",
    "    for g in range(len(h)):\n",
    "        h[g] = h[g].replace(\" \",\"\")\n",
    "    userlok.append([h[kl] for kl in range(1,len(h))])\n",
    "    source = ColumnDataSource(\n",
    "            data=dict(\n",
    "                x= xs,\n",
    "                y= s,\n",
    "                #desc=['A', 'b', 'C', 'd', 'E'],\n",
    "                fill_color= [colors['u'+ h[kl]] for kl in range(1,len(h))],\n",
    "                User_groups=[h[kl] for kl in range(1,len(h))]\n",
    "            )\n",
    "        )\n",
    "\n",
    "    hover = HoverTool(\n",
    "            tooltips=[\n",
    "                (\"User_groups\", \"@User_groups\"),\n",
    "                (\"fill color\", \"$color[hex, swatch]:fill_color\"),\n",
    "                (\"time\", \"$x\"),\n",
    "\n",
    "            ]\n",
    "        )\n",
    "\n",
    "    p = figure(plot_width=400, plot_height=400, tools=[hover],\n",
    "               title=\"Mouse over the dots\", x_axis_label = 'At Time ' + str(time[i]))\n",
    "\n",
    "\n",
    "    p.circle('x', 'y', size=15, source=source,fill_color = 'fill_color')\n",
    "\n",
    "\n",
    "\n",
    "    #p.yaxis.visible = False\n",
    "\n",
    "\n",
    "    #show(p)\n",
    "    #save(p)"
   ]
  },
  {
   "cell_type": "code",
   "execution_count": 77,
   "metadata": {
    "collapsed": false
   },
   "outputs": [],
   "source": [
    "class_attendes = []\n",
    "for j in range(len(userlok)):\n",
    "    v = userlok[j][0].split(\",\")\n",
    "    for l in range(len(v)):\n",
    "        class_attendes.append('u' + v[l])\n",
    "        "
   ]
  },
  {
   "cell_type": "code",
   "execution_count": 78,
   "metadata": {
    "collapsed": true
   },
   "outputs": [],
   "source": [
    "classmembers  =  list(set(class_attendes))  # unique class attendees"
   ]
  },
  {
   "cell_type": "code",
   "execution_count": 79,
   "metadata": {
    "collapsed": false
   },
   "outputs": [
    {
     "data": {
      "text/plain": [
       "5"
      ]
     },
     "execution_count": 79,
     "metadata": {},
     "output_type": "execute_result"
    }
   ],
   "source": [
    "len(classmembers)"
   ]
  },
  {
   "cell_type": "code",
   "execution_count": 87,
   "metadata": {
    "collapsed": false
   },
   "outputs": [
    {
     "data": {
      "text/plain": [
       "['u18', 'u13', 'u02', 'u14', 'u01']"
      ]
     },
     "execution_count": 87,
     "metadata": {},
     "output_type": "execute_result"
    }
   ],
   "source": [
    "classmembers"
   ]
  },
  {
   "cell_type": "markdown",
   "metadata": {},
   "source": [
    "So total 5 students attended the class on that day."
   ]
  },
  {
   "cell_type": "markdown",
   "metadata": {},
   "source": [
    "So we check the GPAs of the students who attended the class on that day."
   ]
  },
  {
   "cell_type": "code",
   "execution_count": 81,
   "metadata": {
    "collapsed": false
   },
   "outputs": [],
   "source": [
    "import csv\n",
    "csvlines = []\n",
    "\n",
    "# reading the gpa value file\n",
    "with open('grades.csv', 'rb') as csvfile:\n",
    "    \n",
    "    spamreader = csv.reader(csvfile, delimiter=' ')\n",
    "    for row in spamreader:\n",
    "        csvlines.append(row)\n",
    "        \n",
    "        \n",
    "\n",
    "for k in range(len(csvlines)):\n",
    "    csvlines[k] = csvlines[k][0].split(\",\")\n",
    "    \n",
    "user_id = []    \n",
    "for k in range(1,len(csvlines)):\n",
    "    user_id.append(csvlines[k][0])\n",
    "    \n",
    "# appending the user_ids in a list    \n",
    "    \n",
    "gpa = []\n",
    "for k in range(1,len(csvlines)):\n",
    "    gpa.append(float(csvlines[k][1]))   \n",
    "# appending the gpa values in a list\n",
    "\n",
    "gpavalue = {}\n",
    "for i in range(len(user_id)):\n",
    "    gpavalue[user_id[i]] = gpa[i]\n",
    "# matching user_id to his/her gpa    \n",
    "    \n",
    "def gpa_finder(fg):\n",
    "    gpauser = []\n",
    "    for j in range(len(user_id)):       \n",
    "        if(user_id[j] in fg):\n",
    "            gpauser.append(float(gpa[j]))      \n",
    "    return gpauser"
   ]
  },
  {
   "cell_type": "code",
   "execution_count": 86,
   "metadata": {
    "collapsed": false
   },
   "outputs": [
    {
     "name": "stdout",
     "output_type": "stream",
     "text": [
      "3.474\n",
      "3.505\n",
      "3.293\n",
      "2.863\n"
     ]
    }
   ],
   "source": [
    "for g in range(len(classmembers)):\n",
    "    if classmembers[g] in user_id:\n",
    "        print(gpavalue[ classmembers[g]])"
   ]
  },
  {
   "cell_type": "markdown",
   "metadata": {},
   "source": [
    "So about 75% of the group members have  GPA more than 3 and they are attending that class."
   ]
  },
  {
   "cell_type": "markdown",
   "metadata": {},
   "source": [
    "Similarily for other days also, the number of class attendees were calculated."
   ]
  },
  {
   "cell_type": "markdown",
   "metadata": {},
   "source": [
    "### Group forming "
   ]
  },
  {
   "cell_type": "markdown",
   "metadata": {},
   "source": [
    "Now we check for group formation during a particular day for about 10 - 15 mins.\n",
    "\n",
    "We select all such groups whose duration is about 10-15 mins during the particular day."
   ]
  },
  {
   "cell_type": "code",
   "execution_count": 2,
   "metadata": {
    "collapsed": false
   },
   "outputs": [],
   "source": [
    "f = open('ProximityData\\groups_05292013.txt','r')\n",
    "lines = []\n",
    "lines.append(f.readlines())\n",
    "textlines = []\n",
    "for i in range(len(lines[0])): \n",
    "    textlines.append( lines[0][i].split(\"|\"))\n",
    "    \n",
    "\n",
    "time = []\n",
    "for i in range(len(textlines)):\n",
    "    time.append((int(textlines[i][0])))    \n",
    "\n",
    "group = [[] for h in range(len(time))]\n",
    "for i in range(len(textlines)):\n",
    "    for p in range(1,len(textlines[i])-1):  # storing groups formed\n",
    "        group[i].append((textlines[i][p]))    \n",
    "        \n",
    "      \n",
    "        \n",
    "gr = group[0]\n",
    "for ip in range(1,len(group)):\n",
    "    gr += group[ip]\n",
    "                \n",
    "unique_group = list(set(gr))\n",
    "\n",
    "\n",
    "\n",
    "def cummulative_diff(li):\n",
    "    p = [0]\n",
    "    for j in range(1,len(li)):\n",
    "        p.append(li[j] - li[j-1])\n",
    "    return p \n",
    "\n",
    "# appending time index and the group formed at that time in a list\n",
    "def group_time(uniquegroup):          \n",
    "    uniqtime = [] \n",
    "    for gr in range(len(group)): \n",
    "        for br in range(len(group[gr])):\n",
    "            \n",
    "            if(group[gr][br] == uniquegroup):\n",
    "                uniqtime.append(time[gr])\n",
    "    return uniqtime\n",
    "    \n",
    "# finding the time indices at which the group occurs\n",
    "\n",
    "stable_group5 = []\n",
    "for g in range(len(unique_group)):\n",
    "\n",
    "    t =  (cummulative_diff(group_time(unique_group[g])))\n",
    "    if(t.count(1) > 5):\n",
    "        #print t\n",
    "        stable_group5.append(unique_group[g])\n",
    "        \n",
    "# Checking for groups who have spend time for about 5 minutes"
   ]
  },
  {
   "cell_type": "code",
   "execution_count": 6,
   "metadata": {
    "collapsed": false
   },
   "outputs": [
    {
     "name": "stdout",
     "output_type": "stream",
     "text": [
      "u08, u30, u32, u41, u49\n"
     ]
    }
   ],
   "source": [
    "print(stable_group5[2])"
   ]
  },
  {
   "cell_type": "code",
   "execution_count": 7,
   "metadata": {
    "collapsed": false
   },
   "outputs": [
    {
     "name": "stdout",
     "output_type": "stream",
     "text": [
      "u13, u36\n"
     ]
    }
   ],
   "source": [
    "print(stable_group5[1])"
   ]
  },
  {
   "cell_type": "markdown",
   "metadata": {
    "collapsed": true
   },
   "source": [
    "So we get Unique Group Members having duration 5 mins"
   ]
  },
  {
   "cell_type": "code",
   "execution_count": 8,
   "metadata": {
    "collapsed": false
   },
   "outputs": [],
   "source": [
    "stable_group10 = []\n",
    "for g in range(len(unique_group)):\n",
    "\n",
    "    t =  (cummulative_diff(group_time(unique_group[g])))\n",
    "    if(t.count(1) > 10):\n",
    "        #print t\n",
    "        stable_group10.append(unique_group[g])\n",
    "        "
   ]
  },
  {
   "cell_type": "code",
   "execution_count": 12,
   "metadata": {
    "collapsed": false
   },
   "outputs": [
    {
     "name": "stdout",
     "output_type": "stream",
     "text": [
      "u13, u36\n"
     ]
    }
   ],
   "source": [
    "print(stable_group10[0])"
   ]
  },
  {
   "cell_type": "code",
   "execution_count": 13,
   "metadata": {
    "collapsed": false
   },
   "outputs": [
    {
     "name": "stdout",
     "output_type": "stream",
     "text": [
      "u22, u49\n"
     ]
    }
   ],
   "source": [
    "print(stable_group10[4])"
   ]
  },
  {
   "cell_type": "markdown",
   "metadata": {},
   "source": [
    "So we get groups having duration 10 mins"
   ]
  },
  {
   "cell_type": "code",
   "execution_count": null,
   "metadata": {
    "collapsed": true
   },
   "outputs": [],
   "source": [
    "stable_group15 = []\n",
    "for g in range(len(unique_group)):\n",
    "\n",
    "    t =  (cummulative_diff(group_time(unique_group[g])))\n",
    "    if(t.count(1) > 15):\n",
    "        #print t\n",
    "        stable_group15.append(unique_group[g])\n",
    "        "
   ]
  },
  {
   "cell_type": "code",
   "execution_count": 10,
   "metadata": {
    "collapsed": false
   },
   "outputs": [
    {
     "name": "stdout",
     "output_type": "stream",
     "text": [
      "u30, u32, u41, u49, u54\n"
     ]
    }
   ],
   "source": [
    "print(stable_group15[3])"
   ]
  },
  {
   "cell_type": "code",
   "execution_count": null,
   "metadata": {
    "collapsed": false
   },
   "outputs": [],
   "source": [
    "print(stable_group15[4])"
   ]
  },
  {
   "cell_type": "markdown",
   "metadata": {
    "collapsed": true
   },
   "source": [
    "So we get Groups having duration 15 mins"
   ]
  },
  {
   "cell_type": "markdown",
   "metadata": {},
   "source": [
    "## Group Regularity"
   ]
  },
  {
   "cell_type": "markdown",
   "metadata": {},
   "source": [
    "In this code we compare two days to see if the same group is always formed in the both the days at the same point of time in the day. \n",
    "If the groups formed are same in both the days at the same time, we say that the two days are regular.\n",
    "If there are more number of such groups we will assume that the two days are highly regular. \n",
    "\n",
    "### Coefficient of Regularity\n",
    "It is a number indicating the regularity of two days.\n",
    "Higher the number , higher the regularity."
   ]
  },
  {
   "cell_type": "code",
   "execution_count": null,
   "metadata": {
    "collapsed": true
   },
   "outputs": [],
   "source": [
    "\n",
    "import os\n",
    "from glob import glob\n",
    "\n",
    "from bokeh.plotting import figure, output_file, show, ColumnDataSource\n",
    "from bokeh.models import HoverTool\n",
    "import matplotlib.pyplot as plt\n",
    "\n",
    "filename = []\n",
    "files_list = glob(os.path.join('ProximityData', '*.txt'))\n",
    "for a_file in sorted(files_list):\n",
    "   \n",
    "    filename.append(a_file)  # checking all the files in the give folder\n",
    "\n",
    "for nk in range(len(filename)):\n",
    "    for rt in range(len(filename)):\n",
    "        if(filename[nk] != filename[rt]):\n",
    "            \n",
    "               \n",
    "            f = open(filename[nk],'r')\n",
    "            lines1 = []\n",
    "            lines1.append(f.readlines())   # Reading\n",
    "            textlines1 = []\n",
    "            for i in range(len(lines1[0])): \n",
    "                textlines1.append( lines1[0][i].split(\"|\"))\n",
    "                \n",
    "            \n",
    "            # For first file\n",
    "            time = []\n",
    "            for i in range(len(textlines1)):\n",
    "                time.append((int(textlines1[i][0])))    \n",
    "            \n",
    "            group = [[] for h in range(len(time))]\n",
    "            for i in range(len(textlines1)):\n",
    "                for p in range(1,len(textlines1[i])-1):\n",
    "                    group[i].append((textlines1[i][p]))\n",
    "                    \n",
    "                    \n",
    "            # For second file\n",
    "            gf = open(filename[rt],'r')\n",
    "            lines2 = []\n",
    "            lines2.append(gf.readlines())\n",
    "            textlines2 = []\n",
    "            for i in range(len(lines2[0])): \n",
    "                textlines2.append( lines2[0][i].split(\"|\"))\n",
    "                \n",
    "                        \n",
    "            time2 = []\n",
    "            for i in range(len(textlines2)):\n",
    "                time2.append((int(textlines2[i][0])))    \n",
    "            \n",
    "            group2 = [[] for h in range(len(time2))]\n",
    "            for i in range(len(textlines2)):\n",
    "                for p in range(1,len(textlines2[i])-1):\n",
    "                    group2[i].append((textlines2[i][p]))\n",
    "                   \n",
    "            \n",
    "                   \n",
    "            gr = group[0]\n",
    "            for ip in range(1,len(group)):\n",
    "                gr += group[ip]\n",
    "                \n",
    "            unique_group = list(set(gr))             #suffix 2 indicates attributes for second file, otherwise for first file\n",
    "            \n",
    "            gr = group2[0]\n",
    "            for ip in range(1,len(group2)):\n",
    "                gr += group2[ip]\n",
    "                \n",
    "            unique_group2 = list(set(gr))\n",
    "            \n",
    "            \n",
    "            \n",
    "            group = [[] for h in range(len(time))]\n",
    "            for i in range(len(textlines1)):\n",
    "                for p in range(1,len(textlines1[i])-1):\n",
    "                    group[i].append((textlines1[i][p]))\n",
    "            \n",
    "            \n",
    "            \n",
    "            group2 = [[] for h in range(len(time2))]\n",
    "            for i in range(len(textlines2)):\n",
    "                for p in range(1,len(textlines2[i])-1):\n",
    "                    group2[i].append((textlines2[i][p]))\n",
    "                    \n",
    "            common = []\n",
    "            for gt in range(len(unique_group)):\n",
    "                for bt in range(len(unique_group2)):\n",
    "                    if(unique_group[gt] == unique_group2[bt]):\n",
    "                        common.append(unique_group[gt])\n",
    "                        \n",
    "                        \n",
    "            timeof1 = []\n",
    "            timeof2 = []\n",
    "            \n",
    "            \n",
    "            for gh in range(len(group)):\n",
    "                for d in range(len(common)):\n",
    "                    if(common[d] in group[gh]):\n",
    "                        timeof1.append(time[gh])\n",
    "                        \n",
    "            for gh in range(len(group2)):\n",
    "                for d in range(len(common)):\n",
    "                    if(common[d] in group2[gh]):\n",
    "                        timeof2.append(time2[gh])\n",
    "            \n",
    "            \n",
    "            # Comparing two files\n",
    "            bn = 0\n",
    "            for k in range(len(timeof1)):\n",
    "                for p in range(len(timeof2)):\n",
    "                    if(timeof1[k] == timeof2[p]):\n",
    "                        #print(timeof1[k])\n",
    "                        bn +=1\n",
    "            print(\"For filenames {} and {}\".format(filename[nk],filename[rt]))            \n",
    "            print(\"Number of same group occurences is {}\".format(bn))\n",
    "            print(\"\\n\")\n",
    "            \n",
    "                                                \n",
    "            f.close()\n",
    "            gf.close()"
   ]
  },
  {
   "cell_type": "markdown",
   "metadata": {},
   "source": [
    "### Audio Checking"
   ]
  },
  {
   "cell_type": "markdown",
   "metadata": {},
   "source": [
    "Checking if users within the same group has the same audio levels. We can therefore filter out those groups which have the same proximity for the users having different audio levels."
   ]
  },
  {
   "cell_type": "code",
   "execution_count": 32,
   "metadata": {
    "collapsed": false
   },
   "outputs": [],
   "source": [
    "f = open('ProximityData\\groups_05292013.txt','r')\n",
    "lines = []\n",
    "lines.append(f.readlines())\n",
    "textlines = []\n",
    "for i in range(len(lines[0])): \n",
    "    textlines.append( lines[0][i].split(\"|\"))\n",
    "    \n",
    "\n",
    "\n",
    "time = []\n",
    "for i in range(len(textlines)):\n",
    "    time.append((int(textlines[i][0])))    \n",
    "\n",
    "group = [[] for h in range(len(time))]\n",
    "for i in range(len(textlines)):\n",
    "    for p in range(1,len(textlines[i])-1):\n",
    "        group[i].append((textlines[i][p]))    \n",
    "    \n",
    "           \n",
    "gr = group[0]\n",
    "for ip in range(1,len(group)):\n",
    "    gr += group[ip]\n",
    "                \n",
    "unique_group = list(set(gr))\n",
    "\n",
    "stable_group = []\n",
    "for g in range(len(unique_group)):\n",
    "\n",
    "    t =  (cummulative_diff(group_time(unique_group[g])))\n",
    "    if(t.count(1) > 5):\n",
    "        #print t\n",
    "        stable_group.append(unique_group[g])\n",
    "        \n",
    "        \n",
    "        \n",
    "def group_time(uniquegroup):          \n",
    "    uniqtime = [] \n",
    "    for gr in range(len(group)): \n",
    "        for br in range(len(group[gr])):\n",
    "            \n",
    "            if(group[gr][br] == uniquegroup):\n",
    "                uniqtime.append(time[gr])\n",
    "    return uniqtime\n",
    "    \n",
    "\n",
    "    \n",
    "stablegroup = []    \n",
    "for r in range(len(stable_group)):\n",
    "\n",
    "    stablegroup.append(stable_group[r].split(\",\")) \n",
    "\n",
    "stableuniqgroup = []    \n",
    "for r in range(len(unique_group)):\n",
    "   \n",
    "    stableuniqgroup.append(unique_group[r].split(\",\"))    \n",
    "   \n"
   ]
  },
  {
   "cell_type": "code",
   "execution_count": 44,
   "metadata": {
    "collapsed": false
   },
   "outputs": [],
   "source": [
    "# Function checks the audio level of a particular group\n",
    "def check_audio_level_uniqgroup(usergroup):\n",
    "    for k in range(len(stableuniqgroup)):\n",
    "        if(usergroup == stableuniqgroup[k]):\n",
    "            p = group_time(unique_group[k])\n",
    "        \n",
    "    re = p   \n",
    "    \n",
    "    audiolevel = [[] for il in range(len(usergroup))]    \n",
    "    for gt in range(len(usergroup)):    \n",
    "    \n",
    "        #audiolevel = [] \n",
    "            \n",
    "        filn = 'audio\\\\'+ usergroup[gt].replace(\" \",\"\") + '\\\\audio_' + usergroup[gt].replace(\" \",\"\") + '_' + '04132013.txt'\n",
    "        iof = open(filn,'r')\n",
    "        linesaudio = []\n",
    "        linesaudio.append(iof.readlines())\n",
    "        timeli = []                          # checking the audio levels of the user\n",
    "        for ku in range(len(linesaudio[0])):\n",
    "            linesaudio[0][ku] = linesaudio[0][ku].split(\",\")\n",
    "        for ki in range(len(linesaudio[0])):    \n",
    "            timeli.append(linesaudio[0][ki][0])\n",
    "        \n",
    "        co = timeli\n",
    "        for y in range(len(p)):\n",
    "            for x in range(len(timeli)): \n",
    "                if(re[y] == int(co[x]) ):\n",
    "                    audiolevel[gt].append(linesaudio[0][x][1].replace(\"\\n\",\"\"))\n",
    "                    \n",
    "\n",
    "        pu = audiolevel\n",
    "\n",
    "        c = 0\n",
    "        \n",
    "        for lu in range(len(pu)):\n",
    "            for ky in range(len(pu)):\n",
    "                if(lu != ky):\n",
    "                    for s in range(len(pu[lu])):\n",
    "                        for t in range(len(pu[ky])):\n",
    "                            if(s == t):\n",
    "                                if(pu[lu][s] == pu[ky][t]):\n",
    "                                    c += 1     \n",
    "        psame = (c/2)\n",
    "        su = []       \n",
    "        for kg in range(len(pu)):\n",
    "            su.append(len(pu[kg]))\n",
    "        \n",
    "    sumof = min(su)           \n",
    "    if(sumof == 0):\n",
    "        #print(\"Not Same\")   \n",
    "        percent = 0\n",
    "    else:         \n",
    "        percent = (psame/(sumof * 1.0))        \n",
    "    \n",
    "    if(percent>0.8):  # if 80% of the audio level of the users in close proximity match then we conclude that it forms a real group\n",
    "        return 1\n",
    "    else:\n",
    "        return 0\n",
    "\n",
    "# Same group = 1\n",
    "# Not same = 0    "
   ]
  },
  {
   "cell_type": "code",
   "execution_count": 46,
   "metadata": {
    "collapsed": false
   },
   "outputs": [
    {
     "data": {
      "image/png": "[encoded data removed]",
      "text/plain": [
       "<matplotlib.figure.Figure at 0x34f6470>"
      ]
     },
     "metadata": {},
     "output_type": "display_data"
    }
   ],
   "source": [
    "%matplotlib inline\n",
    "\n",
    "import matplotlib.pyplot as plt\n",
    "userno = [i for i in range(121)]\n",
    "gry = [2 for i in range(121)]\n",
    "value = [check_audio_level_uniqgroup(stableuniqgroup[i]) for i in range(121)]\n",
    "\n",
    "plt.plot(userno,value,'o')\n",
    "plt.plot(userno,gry,'o',color = 'red')\n",
    "plt.ylim(-1,5)\n",
    "plt.legend('2')\n",
    "plt.show()        \n",
    "    \n",
    "    \n",
    "    \n",
    "noofgroups = 0    \n",
    "for u in range(len(stableuniqgroup)):\n",
    "    if(check_audio_level_uniqgroup(stableuniqgroup[u]) == 1):\n",
    "        noofgroups += 1\n",
    "        # no of uniquegroups based on audio level checking\n",
    "        \n",
    "        \n",
    "no = 0    \n",
    "for u in range(len(stablegroup)):\n",
    "    if(check_audio_level_uniqgroup(stablegroup[u]) == 1):\n",
    "        no += 1\n",
    "        \n",
    "         # no of groups based on audio level checking\n",
    "        "
   ]
  },
  {
   "cell_type": "markdown",
   "metadata": {},
   "source": [
    "So the number of groups formed based on proximity indicated by red is now subdivided into two parts \n",
    "\n",
    "* 1 if the members in the group are really in a group\n",
    "* else it is 0\n",
    "\n",
    "\n",
    "Hence we can now eliminate those groups which were being formed based on proximity data, but the users of the group had different audio levels."
   ]
  },
  {
   "cell_type": "markdown",
   "metadata": {},
   "source": [
    "-----------------------------------------------------------------------"
   ]
  },
  {
   "cell_type": "markdown",
   "metadata": {},
   "source": [
    "-------------------------------------------------------------------------"
   ]
  },
  {
   "cell_type": "markdown",
   "metadata": {},
   "source": [
    "### Checking for GPA Correlation with users in a group "
   ]
  },
  {
   "cell_type": "code",
   "execution_count": 62,
   "metadata": {
    "collapsed": true
   },
   "outputs": [],
   "source": [
    "import csv\n",
    "\n",
    "f = open('ProximityData\\groups_05292013.txt','r')\n",
    "lines = []\n",
    "lines.append(f.readlines())\n",
    "textlines = []\n",
    "for i in range(len(lines[0])): \n",
    "    textlines.append( lines[0][i].split(\"|\"))\n",
    "\n",
    "\n",
    "\n",
    "time = []\n",
    "for i in range(len(textlines)):\n",
    "    time.append((int(textlines[i][0])))    \n",
    "\n",
    "group = [[] for h in range(len(time))]\n",
    "for i in range(len(textlines)):\n",
    "    for p in range(1,len(textlines[i])-1):\n",
    "        group[i].append((textlines[i][p]))    \n",
    "\n",
    "\n",
    "gr = group[0]\n",
    "for ip in range(1,len(group)):\n",
    "    gr += group[ip]\n",
    "\n",
    "unique_group = list(set(gr))\n",
    "\n",
    "stable_group5 = []\n",
    "for g in range(len(unique_group)):\n",
    "\n",
    "    t =  (cummulative_diff(group_time(unique_group[g])))\n",
    "    if(t.count(1) > 5):\n",
    "        #print t\n",
    "        stable_group5.append(unique_group[g])\n",
    "\n",
    "csvlines = []\n",
    "with open('grades.csv', 'rb') as csvfile:\n",
    "    \n",
    "    spamreader = csv.reader(csvfile, delimiter=' ')\n",
    "    for row in spamreader:\n",
    "        csvlines.append(row)\n",
    "        \n",
    "        \n",
    "\n",
    "for k in range(len(csvlines)):\n",
    "    csvlines[k] = csvlines[k][0].split(\",\")\n",
    "    \n",
    "user_id = []    \n",
    "for k in range(1,len(csvlines)):\n",
    "    user_id.append(csvlines[k][0])\n",
    "    \n",
    "    \n",
    "    \n",
    "gpa = []\n",
    "for k in range(1,len(csvlines)):\n",
    "    gpa.append(float(csvlines[k][1]))\n",
    "    \n",
    "    \n",
    "def gpa_finder(fg):\n",
    "    gpauser = []\n",
    "    for j in range(len(user_id)):\n",
    "        \n",
    "        if(user_id[j] in fg):\n",
    "            gpauser.append(float(gpa[j]))\n",
    "            \n",
    "    return gpauser\n",
    "\n",
    "# gpa finder greater than 3.5\n",
    "def gpa_finder_greater35(fg):\n",
    "    gpauser = {}\n",
    "    for j in range(len(user_id)):\n",
    "        if(user_id[j] in fg):\n",
    "            #print(user_id[j])\n",
    "            if(gpa[j] > 3.5):\n",
    "                gpauser[user_id[j]] = (float(gpa[j]))\n",
    "            else:\n",
    "                gpauser = {}\n",
    "    return gpauser\n",
    "\n",
    "# gpa finder greater than 3\n",
    "def gpa_finder_greater3(fg):\n",
    "    gpauser = {}\n",
    "    for j in range(len(user_id)):\n",
    "        if(user_id[j] in fg):\n",
    "            #print(user_id[j])\n",
    "            if(gpa[j] > 3):\n",
    "                gpauser[user_id[j]] = (float(gpa[j]))\n",
    "            \n",
    "    return gpauser\n",
    "            \n",
    "\n",
    "\n",
    "more35 = 0\n",
    "for o in range(len(stable_group5)):\n",
    "    \n",
    "    if(all(i >= 3.5 for i in gpa_finder(stable_group5[o])) == True):\n",
    "        more35 += 1   \n",
    "\n",
    "\n",
    "more3 = 0\n",
    "for o in range(len(stable_group5)):\n",
    "    if(all(i >= 3 for i in gpa_finder(stable_group5[o])) == True):\n",
    "        more3 += 1\n",
    "   \n",
    "   \n",
    "    \n",
    "# 31 May    \n",
    "#4 attended among 24 above 3 gpa\n",
    "#3 attended among 15 above 3.5 gpa)\n",
    "    \n",
    "    \n",
    "# 0413 2013\n",
    "# 14 out of 24 3 toppers  \n",
    "# 7 out of 15 attended 3.5 toppers    \n",
    "    "
   ]
  },
  {
   "cell_type": "markdown",
   "metadata": {},
   "source": [
    "------------------------------------------------------------------------------------"
   ]
  },
  {
   "cell_type": "code",
   "execution_count": 63,
   "metadata": {
    "collapsed": false
   },
   "outputs": [
    {
     "data": {
      "text/plain": [
       "22"
      ]
     },
     "execution_count": 63,
     "metadata": {},
     "output_type": "execute_result"
    }
   ],
   "source": [
    "more3   ## 22 groups with each student in a group more than 3 gpa."
   ]
  },
  {
   "cell_type": "code",
   "execution_count": 65,
   "metadata": {
    "collapsed": false
   },
   "outputs": [
    {
     "data": {
      "text/plain": [
       "14"
      ]
     },
     "execution_count": 65,
     "metadata": {},
     "output_type": "execute_result"
    }
   ],
   "source": [
    "more35   ## 14 groups with each student in a group more than 3.5 gpa."
   ]
  },
  {
   "cell_type": "markdown",
   "metadata": {},
   "source": [
    "Similarily for \n",
    "\n",
    "##### 21 May\n",
    "\n",
    "* (3.5 - 3) 2 groups\n",
    "* more than 3.5 - 14 groups\n",
    "* Total 16 groups\n",
    "* Rest mingled with (3 - 3.5) and > 3.5\n",
    "\n"
   ]
  },
  {
   "cell_type": "markdown",
   "metadata": {},
   "source": [
    "#### 31 May\n",
    "\n",
    "* 31 st May\n",
    "* 12 groups\n",
    "* gpa more than 3 = 12 groups\n",
    "* gpa more than 3.5 =  5 groups\n",
    "* gpa between 3 - 3.5 = 6 groups\n"
   ]
  },
  {
   "cell_type": "markdown",
   "metadata": {},
   "source": [
    "So we can say that most of the users in a particular group tend to participate with users who are in the same gpa range.\n",
    "\n",
    "There might be few exceptions"
   ]
  },
  {
   "cell_type": "markdown",
   "metadata": {},
   "source": [
    "--------------------------------------------------------------------"
   ]
  },
  {
   "cell_type": "markdown",
   "metadata": {},
   "source": [
    "## Location Checking"
   ]
  },
  {
   "cell_type": "markdown",
   "metadata": {},
   "source": [
    "Members of a particular group must have the same location in order to participate in the group. \n",
    "\n",
    "If some members of a group are in different location and some members are in other location, then we shall discard the group."
   ]
  },
  {
   "cell_type": "markdown",
   "metadata": {},
   "source": [
    "Created files containing location of a group per day basis. If 80% of users in a group are in the same location, then we can conclude that the particular group is in that specific location.\n",
    "\n",
    "\n",
    "So I created files on a day to day basis, indicating the groups formed at a particular location during a specific time for a specific duration"
   ]
  },
  {
   "cell_type": "code",
   "execution_count": null,
   "metadata": {
    "collapsed": true
   },
   "outputs": [],
   "source": [
    "import re\n",
    "from datetime import datetime\n",
    "from collections import defaultdict\n",
    "import csv\n",
    "import os\n",
    "\n",
    "na = [str(i) for i in range(60)]\n",
    "for i in range(len(na)):\n",
    "    if(len(str(na[i])) == 1):\n",
    "        na[i] ='u'+ '0' + na[i]\n",
    "    else:\n",
    "        na[i] = 'u' + na[i]\n",
    "        \n",
    "filid = ['22','23','24','25','26','27','28','29']\n",
    "\n",
    "\n",
    "filname = 'uniqueGroup_04' + filid[n] + '2013_bin5.txt'\n",
    "\n",
    "fil = open(filname,'r')\n",
    "\n",
    "lines = []\n",
    "lines.append(fil.readlines())\n",
    "\n",
    "for r in range(len(lines[0])):\n",
    "    lines[0][r] = re.split('[ |]',lines[0][r])\n",
    "    \n",
    "    \n",
    "    \n",
    "time = []\n",
    "\n",
    "for k in range(len(lines[0])):\n",
    "    #p = (lines[0][k][1]).split(\",\")\n",
    "    p = re.split('[ , ;]',lines[0][k][1])\n",
    "    time.append((p))\n",
    "    \n",
    "\n",
    "\n",
    "usergroups = []\n",
    "for k in range(len(lines[0])):\n",
    "    p = (lines[0][k][0])\n",
    "    p = p.split(\";\")\n",
    "    usergroups.append(p[0])   \n",
    "\n",
    "\n",
    "t = [[] for r in range(len(time))]\n",
    "for r in range(len(time)):\n",
    "    for j in range(0,len(time[r]),2):\n",
    "        t[r].append(time[r][j])   \n",
    "    \n",
    "    \n",
    "duration = [[] for r in range(len(time))]\n",
    "for r in range(len(time)):\n",
    "    for j in range(1,len(time[r]),2):\n",
    "        duration[r].append(time[r][j])   \n",
    "    \n",
    "    \n",
    "    \n",
    "usergrp = [[] for sd in range(len(usergroups))]        \n",
    "for r in range(len(usergroups)):\n",
    "    \n",
    "    usergrp[r] = usergroups[r].split(\",\")\n",
    "    \n",
    "q = 'Day_04'+ filid[n]+ '2013'\n",
    "os.mkdir(q)    \n",
    "\n",
    "# This function checks which user was present with which group at what time during a particular day during month 04\n",
    "def useracitvityfile(user_id):\n",
    "    \n",
    "    data = []    \n",
    "    #user_id = 'u25'\n",
    "    for out in range(len(usergrp)): \n",
    "    \n",
    "        for c in usergrp[out]:\n",
    "            if(user_id == c):\n",
    "                #print('Group')\n",
    "                #print(usergrp[out])\n",
    "                #print('location') \n",
    "                for g in range(len(t[out])):\n",
    "                    o = usergrp[out][0]\n",
    "                    for f in range(1,len(usergrp[out])):\n",
    "                        o = o + ' ' + usergrp[out][f]  \n",
    "\n",
    "                    if(timefinder(user_id,int(t[out][g]),filid[n]) != []):\n",
    "                        data.append(o +',' + timefinder(user_id,int(t[out][g]),filid[n])[0] + ',' + t[out][g] + ','+ str(int(duration[out][g])) + '\\n')\n",
    "                    else:\n",
    "                        for h in range(len(usergrp[out])):\n",
    "                            if(timefinder(usergrp[out][h],int(t[out][g]),filid[n]) != []):\n",
    "                                data.append( o +',' + timefinder(usergrp[out][h],int(t[out][g]),filid[n])[0] + ',' + t[out][g] +',' + str(int(duration[out][g])) + '\\n')\n",
    "\n",
    "    if(data!= []):        \n",
    "        fl = open( q + '\\ ' + user_id + '.csv' ,'a' )\n",
    "        sortedlist = sorted(data, key=lambda column: column[2], reverse=False)\n",
    "        fl.write('User Group, Location, Time, Duration \\n')\n",
    "        for row in sortedlist:\n",
    "            fl.writelines(row)\n",
    "        \n",
    "        fl.close()        \n",
    "for jt in range(len(na)):\n",
    "    useracitvityfile(na[jt])\n",
    "\n",
    "\n",
    "\n",
    "\n",
    "# The function finds the location of an user at a particular time and at a particular date\n",
    "def timefinder(user,tim,date): \n",
    "    filename = 'wifi_location\\wifi_location_' + user + '.csv' \n",
    "    loclines = []\n",
    "    with open(filename) as f:               ## Opening the CSV files\n",
    "        reader = csv.reader(f, delimiter=' ')\n",
    "        for row in reader:\n",
    "            loclines.append(row)  \n",
    "            \n",
    "            \n",
    "    f.close()             \n",
    "    for j in range(len(loclines)):\n",
    "        loclines[j] = loclines[j][0].split(\",\")\n",
    "        \n",
    "    timevalue  = []\n",
    "    for j in range(1,len(loclines)):\n",
    "        timevalue.append((loclines[j][0]))\n",
    "        \n",
    "    yeardate = []\n",
    "    for k in range(len(timevalue)):\n",
    "        yeardate.append(year(timevalue[k]))\n",
    "    \n",
    "    location = []\n",
    "    for j in range(1,len(loclines)):\n",
    "        location.append((loclines[j][1]))\n",
    "    \n",
    "    \n",
    "    daytime = []\n",
    "    for k in range(len(timevalue)):\n",
    "        daytime.append(timeval(timevalue[k]))\n",
    "    \n",
    "    day = []\n",
    "    for k in range(len(daytime)):\n",
    "        day.append(int(daytime[k][0:2]) *60 + int(daytime[k][3:5]))\n",
    "    \n",
    "    loc = []\n",
    "    #c = 0\n",
    "    for k in range(len(yeardate)):\n",
    "        if(yeardate[k] == '2013:04:' + str(date)):\n",
    "            if(day[k] == tim):\n",
    "                \n",
    "                loc.append(location[k])\n",
    "    #f.close()            \n",
    "    return list(set(loc))    \n",
    "\n",
    "       \n",
    "\n",
    "\n",
    "# Create a file for location backer-berry for month 04 and store the groups formed at what time and what date\n",
    "locationfil = open('in[backer-berry]04.csv','a')\n",
    "locationfil.writelines('Group' + ',' +'Time' + ',' + 'Date' + '\\n')\n",
    "\n",
    "       \n",
    "for ry in range(len(filid)):\n",
    "    filname = 'uniqueGroup_04' + filid[ry] + '2013_bin5.txt'\n",
    "\n",
    "    fil = open(filname,'r')\n",
    "    \n",
    "    lines = []\n",
    "    lines.append(fil.readlines())\n",
    "    \n",
    "    for r in range(len(lines[0])):\n",
    "        lines[0][r] = re.split('[ |]',lines[0][r])\n",
    "        \n",
    "        \n",
    "        \n",
    "    time = []\n",
    "    \n",
    "    for kd in range(len(lines[0])):         # appending time index\n",
    "        \n",
    "        p = re.split('[ , ;]',lines[0][kd][1])\n",
    "        time.append((p))\n",
    "        \n",
    "    \n",
    "    \n",
    "    usergroups = []\n",
    "    for kp in range(len(lines[0])):\n",
    "        p = (lines[0][kp][0])\n",
    "        p = p.split(\";\")        # the groups formed at that time\n",
    "        usergroups.append(p[0])   \n",
    "    \n",
    "    \n",
    "    t = [[] for r in range(len(time))]\n",
    "    for r in range(len(time)):\n",
    "        for j in range(0,len(time[r]),2):\n",
    "            t[r].append(time[r][j])   \n",
    "        \n",
    "        \n",
    "    duration = [[] for r in range(len(time))]\n",
    "    for r in range(len(time)):                      # duration of the group\n",
    "        for j in range(1,len(time[r]),2):\n",
    "            duration[r].append(time[r][j])   \n",
    "        \n",
    "        \n",
    "        \n",
    "        \n",
    "    usergrp = [[] for sd in range(len(usergroups))]        \n",
    "    for r in range(len(usergroups)):\n",
    "        \n",
    "        usergrp[r] = usergroups[r].split(\",\")   \n",
    "               \n",
    "        \n",
    "\n",
    "    for k in range(len(usergroups)):\n",
    "    \n",
    "        for v in range(len(t[k])):\n",
    "            if(timefinder(usergrp[k][0], int(t[k][v]), int(filid[ry])) != []):\n",
    "                if(timefinder(usergrp[k][0], int(t[k][v]), int(filid[ry]))[0] == 'in[backer-berry]'):\n",
    "                    us = usergrp[k][0]\n",
    "                    for l in range(1,len(usergrp[k])):    # if location is in backer-berry\n",
    "                        us = us + ' ' + usergrp[k][l]\n",
    "                    locationfil.writelines(us + ',' + t[k][v] + ',' + filid[ry] + '\\n')\n",
    " \n",
    " \n",
    "# Function for converting the year value in the csv files to Day-Month-Year format\n",
    "def year(value):\n",
    "\n",
    "    yeartime = datetime.fromtimestamp(int(value)).strftime('%Y:%m:%d')\n",
    "    return yeartime\n",
    "\n",
    "\n",
    "# Function for converting the time value in the csv files to Hours-Minutes-Seconds format\n",
    "def timeval(value):\n",
    "\n",
    "    time = datetime.fromtimestamp(int(value)).strftime('%H:%M:%S')\n",
    "    return time\n",
    "    \n",
    "\n"
   ]
  },
  {
   "cell_type": "markdown",
   "metadata": {},
   "source": [
    "-----------------------------------------------------------------"
   ]
  },
  {
   "cell_type": "markdown",
   "metadata": {},
   "source": [
    "--------------------------------------------------------------"
   ]
  },
  {
   "cell_type": "markdown",
   "metadata": {
    "collapsed": true
   },
   "source": [
    "### Checking the Largest Group Formed"
   ]
  },
  {
   "cell_type": "markdown",
   "metadata": {
    "collapsed": true
   },
   "source": [
    "Finding the largest group in a particular day and studying its evolution throughout the day. Like who were the persons who were added to the group, the persons who who went out of the group.\n",
    "\n",
    "Taking the largest group formed as a single entity , we can check its activity through out the day.\n",
    "\n",
    "We can also check if the largest grou formed on one day prevails as the largest group in the upcoming days also.\n",
    "\n",
    "For example group  u13, u36 is the largest group formed on consecutive 3 days 23,24 and 25th May."
   ]
  },
  {
   "cell_type": "code",
   "execution_count": null,
   "metadata": {
    "collapsed": true
   },
   "outputs": [],
   "source": [
    "import re\n",
    "from datetime import datetime\n",
    "from collections import defaultdict\n",
    "import csv\n",
    "import os\n",
    "\n",
    "na = [str(i) for i in range(60)]\n",
    "for i in range(len(na)):\n",
    "    if(len(str(na[i])) == 1):\n",
    "        na[i] ='u'+ '0' + na[i]\n",
    "    else:\n",
    "        na[i] = 'u' + na[i]\n",
    "        \n",
    "filid = ['23','24','25','26','27','28']\n",
    "\n",
    "# For Day 23\n",
    "filname = 'uniqueGroup_05' + filid[0] + '2013_bin5.txt'\n",
    "\n",
    "fil = open(filname,'r')\n",
    "\n",
    "lines = []\n",
    "lines.append(fil.readlines())\n",
    "\n",
    "for r in range(len(lines[0])):\n",
    "    lines[0][r] = re.split('[ |]',lines[0][r])\n",
    "    \n",
    "    \n",
    "    \n",
    "time = []\n",
    "\n",
    "for k in range(len(lines[0])):\n",
    "   \n",
    "    p = re.split('[ , ;]',lines[0][k][1])\n",
    "    time.append((p))\n",
    "    \n",
    "\n",
    "\n",
    "usergroups = []\n",
    "for k in range(len(lines[0])):\n",
    "    p = (lines[0][k][0])    # storing the groups formed in a list\n",
    "    p = p.split(\";\")\n",
    "    usergroups.append(p[0])   \n",
    "\n",
    "\n",
    "t = [[] for r in range(len(time))]\n",
    "for r in range(len(time)):            # storing the time index in a list\n",
    "    for j in range(0,len(time[r]),2):\n",
    "        t[r].append(time[r][j])   \n",
    "    \n",
    "    \n",
    "duration = [[] for r in range(len(time))]\n",
    "for r in range(len(time)):\n",
    "    for j in range(1,len(time[r]),2):   # storing the duration of the group in a list\n",
    "        duration[r].append(time[r][j])   \n",
    "    \n",
    "occurence = []    \n",
    "for i in range(len(t)):              # how many times the group occured\n",
    "    occurence.append(len(t[i]))\n",
    "    \n",
    "maxoccurgroup = []    \n",
    "for jl in range(len(occurence)):\n",
    "    if(occurence[jl] == max(occurence)):    # the group that occured for maximum time \n",
    "        print(\"Group that occurred most  frequently is {}\".format(usergroups[jl]))\n",
    "        maxoccurgroup.append(usergroups[jl])\n",
    "    \n",
    "## Checking the maximum times a group formed in a day\n",
    "\n",
    "\n",
    "##checking  How the group evolved \n",
    "\n",
    "    \n",
    "for i in range(len(usergroups)):\n",
    "    for c in usergroups[i].split(\",\"):\n",
    "        if c not in maxoccurgroup[0].split(\",\"):\n",
    "            print(c)\n",
    "            print('\\n')\n",
    "    \n",
    "    \n",
    "# For Day 24\n",
    "filname = 'uniqueGroup_05' + filid[1] + '2013_bin5.txt'\n",
    "\n",
    "fil = open(filname,'r')\n",
    "\n",
    "lines24 = []\n",
    "lines24.append(fil.readlines())\n",
    "\n",
    "for r in range(len(lines24[0])):\n",
    "    lines24[0][r] = re.split('[ |]',lines24[0][r])\n",
    "    \n",
    "    \n",
    "time24 = []\n",
    "\n",
    "for k in range(len(lines24[0])):\n",
    "    #p = (lines[0][k][1]).split(\",\")\n",
    "    p = re.split('[ , ;]',lines24[0][k][1])\n",
    "    time24.append((p))\n",
    "    \n",
    "\n",
    "\n",
    "usergroups24 = []\n",
    "for k in range(len(lines24[0])):\n",
    "    p = (lines24[0][k][0])\n",
    "    p = p.split(\";\")\n",
    "    usergroups24.append(p[0])   \n",
    "\n",
    "\n",
    "t24 = [[] for r in range(len(time24))]\n",
    "for r in range(len(time24)):\n",
    "    for j in range(0,len(time24[r]),2):\n",
    "        t24[r].append(time24[r][j])   \n",
    "    \n",
    "    \n",
    "duration24 = [[] for r in range(len(time24))]\n",
    "for r in range(len(time24)):\n",
    "    for j in range(1,len(time24[r]),2):\n",
    "        duration24[r].append(time24[r][j])   \n",
    "            \n",
    "        \n",
    "        \n",
    "occurence24 = []    \n",
    "for i in range(len(t24)):\n",
    "    occurence24.append(len(t24[i]))\n",
    "    \n",
    "maxoccurgroup24 = []    \n",
    "for jl in range(len(occurence24)):\n",
    "    if(occurence24[jl] == max(occurence24)):\n",
    "        print(\"Group that occurred most  frequently is {}\".format(usergroups24[jl]))\n",
    "        maxoccurgroup24.append(usergroups24[jl])\n",
    "        \n",
    "        \n",
    "        \n",
    "fl =  open('LargeGroup'+ filid[1],'a')\n",
    "#associate = []\n",
    "fl.writelines('Group Evolution, Time \\n')\n",
    "for g in range(len(usergroups24)):\n",
    "    if(maxoccurgroup24[0] in usergroups24[g]):\n",
    "        for b in range(len(t24[g])):\n",
    "            ght = usergroups24[g].split(\",\")\n",
    "            us = ght[0]\n",
    "            for ji in range(1,len(ght)):\n",
    "                us = us + ' ' + ght[ji]\n",
    "                \n",
    "            \n",
    "            fl.writelines(us + ',' + t24[g][b] + '\\n')    \n",
    "        \n",
    "          \n",
    "\n",
    "# For Day 25            \n",
    "filname = 'uniqueGroup_05' + filid[2] + '2013_bin5.txt'\n",
    "\n",
    "fil = open(filname,'r')\n",
    "\n",
    "lines25 = []\n",
    "lines25.append(fil.readlines())\n",
    "\n",
    "for r in range(len(lines25[0])):\n",
    "    lines25[0][r] = re.split('[ |]',lines25[0][r])\n",
    "    \n",
    "    \n",
    "time25 = []\n",
    "\n",
    "for k in range(len(lines25[0])):\n",
    "    \n",
    "    p = re.split('[ , ;]',lines25[0][k][1])\n",
    "    time25.append((p))\n",
    "    \n",
    "\n",
    "\n",
    "usergroups25 = []\n",
    "for k in range(len(lines25[0])):\n",
    "    p = (lines25[0][k][0])\n",
    "    p = p.split(\";\")\n",
    "    usergroups25.append(p[0])   \n",
    "\n",
    "\n",
    "t25 = [[] for r in range(len(time25))]\n",
    "for r in range(len(time25)):\n",
    "    for j in range(0,len(time25[r]),2):\n",
    "        t25[r].append(time25[r][j])   \n",
    "    \n",
    "    \n",
    "duration25 = [[] for r in range(len(time25))]\n",
    "for r in range(len(time25)):\n",
    "    for j in range(1,len(time25[r]),2):\n",
    "        duration25[r].append(time25[r][j])   \n",
    "        \n",
    "        \n",
    "        \n",
    "        \n",
    "        \n",
    "occurence25 = []    \n",
    "for i in range(len(t25)):\n",
    "    occurence25.append(len(t25[i]))\n",
    "    \n",
    "maxoccurgroup25 = []    \n",
    "for jl in range(len(occurence25)):\n",
    "    if(occurence25[jl] == max(occurence25)):\n",
    "        print(\"Group that occurred most  frequently is {}\".format(usergroups25[jl]))\n",
    "        maxoccurgroup25.append(usergroups25[jl])\n",
    "        \n",
    "\n",
    "# For Day 26\n",
    "filname = 'uniqueGroup_05' + filid[3] + '2013_bin5.txt'\n",
    "\n",
    "fil = open(filname,'r')\n",
    "\n",
    "lines26 = []\n",
    "lines26.append(fil.readlines())\n",
    "\n",
    "for r in range(len(lines26[0])):\n",
    "    lines26[0][r] = re.split('[ |]',lines26[0][r])\n",
    "    \n",
    "  \n",
    "    \n",
    "time26 = []\n",
    "\n",
    "for k in range(len(lines26[0])):\n",
    "    #p = (lines[0][k][1]).split(\",\")\n",
    "    p = re.split('[ , ;]',lines26[0][k][1])\n",
    "    time26.append((p))\n",
    "    \n",
    "\n",
    "usergroups26 = []\n",
    "for k in range(len(lines26[0])):\n",
    "    p = (lines26[0][k][0])\n",
    "    p = p.split(\";\")\n",
    "    usergroups26.append(p[0])   \n",
    "\n",
    "\n",
    "t26 = [[] for r in range(len(time26))]\n",
    "for r in range(len(time26)):\n",
    "    for j in range(0,len(time26[r]),2):\n",
    "        t26[r].append(time26[r][j])   \n",
    "    \n",
    "    \n",
    "duration26 = [[] for r in range(len(time26))]\n",
    "for r in range(len(time26)):\n",
    "    for j in range(1,len(time26[r]),2):\n",
    "        duration26[r].append(time26[r][j])        \n",
    "      \n",
    "        \n",
    "        \n",
    "occurence26 = []    \n",
    "for i in range(len(t26)):\n",
    "    occurence26.append(len(t26[i]))\n",
    "    \n",
    "maxoccurgroup26 = []    \n",
    "for jl in range(len(occurence26)):\n",
    "    if(occurence26[jl] == max(occurence26)):\n",
    "        print(\"Group that occurred most  frequently is {}\".format(usergroups26[jl]))\n",
    "        maxoccurgroup26.append(usergroups26[jl])\n",
    "        "
   ]
  },
  {
   "cell_type": "markdown",
   "metadata": {},
   "source": [
    "At the end I created files for each day which contained the data about the largest group formed on that day.\n",
    "\n",
    "One observation - Throughout the 3 days, we get the same group being the largest one.\n",
    "So we wish to study the activity of that particular group."
   ]
  },
  {
   "cell_type": "markdown",
   "metadata": {},
   "source": [
    "------------------------------------------------"
   ]
  },
  {
   "cell_type": "code",
   "execution_count": 7,
   "metadata": {
    "collapsed": false
   },
   "outputs": [
    {
     "name": "stdout",
     "output_type": "stream",
     "text": [
      "2.0.8\n"
     ]
    }
   ],
   "source": [
    "from plotly import __version__\n",
    "from plotly.offline import download_plotlyjs, init_notebook_mode, plot, iplot\n",
    "\n",
    "print __version__"
   ]
  },
  {
   "cell_type": "code",
   "execution_count": 8,
   "metadata": {
    "collapsed": false
   },
   "outputs": [
    {
     "data": {
      "text/html": [
       "<script>requirejs.config({paths: { 'plotly': ['https://cdn.plot.ly/plotly-latest.min']},});if(!window.Plotly) {{require(['plotly'],function(plotly) {window.Plotly=plotly;});}}</script>"
      ],
      "text/vnd.plotly.v1+html": [
       "<script>requirejs.config({paths: { 'plotly': ['https://cdn.plot.ly/plotly-latest.min']},});if(!window.Plotly) {{require(['plotly'],function(plotly) {window.Plotly=plotly;});}}</script>"
      ]
     },
     "metadata": {},
     "output_type": "display_data"
    }
   ],
   "source": [
    "init_notebook_mode(connected=True)"
   ]
  },
  {
   "cell_type": "markdown",
   "metadata": {
    "collapsed": false
   },
   "source": [
    "\n",
    "![](https://raw.githubusercontent.com/prateekiiest/Student-Group-Activity-Recognition/master/Plot%2035.png)"
   ]
  },
  {
   "cell_type": "markdown",
   "metadata": {},
   "source": [
    "[See interactive plot](https://plot.ly/~prateekkol21/35/)\n",
    "\n",
    "Hover over the dots to check about the user groups formed."
   ]
  },
  {
   "cell_type": "markdown",
   "metadata": {},
   "source": [
    "![](https://raw.githubusercontent.com/prateekiiest/Student-Group-Activity-Recognition/master/Plot%2037.png)"
   ]
  },
  {
   "cell_type": "markdown",
   "metadata": {
    "collapsed": false
   },
   "source": [
    "[See Interactive Plot](https://plot.ly/~prateekkol21/37/)"
   ]
  },
  {
   "cell_type": "markdown",
   "metadata": {
    "collapsed": false
   },
   "source": [
    "![](https://raw.githubusercontent.com/prateekiiest/Student-Group-Activity-Recognition/master/Plot%2039.png)"
   ]
  },
  {
   "cell_type": "markdown",
   "metadata": {},
   "source": [
    "[See Interactive Plot](https://plot.ly/~prateekkol21/39)"
   ]
  },
  {
   "cell_type": "markdown",
   "metadata": {},
   "source": [
    "--------------------------------------------------------"
   ]
  },
  {
   "cell_type": "markdown",
   "metadata": {},
   "source": [
    "--------------------------------------------------"
   ]
  },
  {
   "cell_type": "markdown",
   "metadata": {},
   "source": [
    "### User Activity on a Particular Day"
   ]
  },
  {
   "cell_type": "markdown",
   "metadata": {},
   "source": [
    "User Activity denotes the activity of a particular user during a day.\n",
    "\n",
    "* With which group the user was associated and at which time along with the duration.\n",
    "\n",
    "By studying these user activities we can infer some characteristics of the user.\n",
    "\n",
    "\n",
    "I thus created csv files for each users on a particular day.\n",
    "\n",
    "Like I wise I created files for data on 2 months, April and May"
   ]
  },
  {
   "cell_type": "markdown",
   "metadata": {
    "collapsed": true
   },
   "source": [
    "##### Activity of User 52 on 22 April 2013\n",
    "\n",
    "[See Interactive Plot](https://plot.ly/~prateekkol21/50)\n",
    "\n",
    "Hover over the plots to check the groups formed by user 52 on that day."
   ]
  },
  {
   "cell_type": "markdown",
   "metadata": {
    "collapsed": true
   },
   "source": [
    "![](https://raw.githubusercontent.com/prateekiiest/Student-Group-Activity-Recognition/master/Plot%2050.png)\n"
   ]
  },
  {
   "cell_type": "markdown",
   "metadata": {},
   "source": [
    "##### Activity of User 52 on 23 April 2013\n",
    "\n",
    "[See Interactive Plot](https://plot.ly/~prateekkol21/52)\n",
    "\n",
    "Hover over the plots to check the groups formed by user 52 on that day."
   ]
  },
  {
   "cell_type": "markdown",
   "metadata": {},
   "source": [
    "![](https://raw.githubusercontent.com/prateekiiest/Student-Group-Activity-Recognition/master/Plot%2052.png)"
   ]
  },
  {
   "cell_type": "markdown",
   "metadata": {},
   "source": [
    "#### Group ,Percentage of Time spent in a location for some days during a month."
   ]
  },
  {
   "cell_type": "code",
   "execution_count": null,
   "metadata": {
    "collapsed": true
   },
   "outputs": [],
   "source": [
    "import re\n",
    "from datetime import datetime\n",
    "from collections import defaultdict\n",
    "import csv\n",
    "import os\n",
    "\n",
    "na = [str(i) for i in range(60)]\n",
    "for i in range(len(na)):\n",
    "    if(len(str(na[i])) == 1):\n",
    "        na[i] ='u'+ '0' + na[i]\n",
    "    else:\n",
    "        na[i] = 'u' + na[i]\n",
    "        \n",
    "filid = ['22','23','24','25','26','27','28','29']\n",
    "filname = 'uniqueGroup_05' + filid[0] + '2013_bin5.txt'\n",
    "fil = open(filname,'r')\n",
    "lines = []\n",
    "lines.append(fil.readlines())\n",
    "\n",
    "for r in range(len(lines[0])):\n",
    "    lines[0][r] = re.split('[ |]',lines[0][r])\n",
    "    \n",
    "\n",
    "    \n",
    "time = []\n",
    "for k in range(len(lines[0])):\n",
    "    #p = (lines[0][k][1]).split(\",\")\n",
    "    p = re.split('[ , ;]',lines[0][k][1])\n",
    "    time.append((p))\n",
    "    \n",
    "\n",
    "usergroups = []\n",
    "for k in range(len(lines[0])):\n",
    "    p = (lines[0][k][0])\n",
    "    p = p.split(\";\")\n",
    "    usergroups.append(p[0])   \n",
    "\n",
    "\n",
    "t = [[] for r in range(len(time))]\n",
    "for r in range(len(time)):\n",
    "    for j in range(0,len(time[r]),2):   # time index\n",
    "        t[r].append(time[r][j])   \n",
    "    \n",
    "    \n",
    "duration = [[] for r in range(len(time))]\n",
    "for r in range(len(time)):\n",
    "    for j in range(1,len(time[r]),2):\n",
    "        duration[r].append(time[r][j])    # duration index\n",
    "    \n",
    "\n",
    "    \n",
    "uniqgroup = list(set(usergroups))\n",
    "\n",
    "for i in range(len(uniqgroup)):\n",
    "    for j in range(len(usergroups)):\n",
    "        if(uniqgroup[i] == usergroups[j]):\n",
    "            print(usergroups[j])\n",
    "            for c in usergroups[j].split(\",\"):\n",
    "                for h in range(len(t[j])):\n",
    "                    (timefindr(c,int(t[j][h],filid[0])))\n",
    "            print('\\n')\n",
    "    \n",
    "\n",
    "    # We create a csv file, store the number of groups formed at different locations through out the day along with the duration of the group.\n",
    "fg = open('GroupsLcationPercebntage22.csv','a')\n",
    "    \n",
    "for i in range(len(uniqgroup)):\n",
    "    x = uniqgroup[i].split(\",\")\n",
    "    us = x[0]\n",
    "    for r in range(1,len(x)):\n",
    "        us = us + ' ' + x[r]\n",
    "    loco = []\n",
    "    tim = []\n",
    "    for j in range(len(usergroups)):\n",
    "        if(uniqgroup[i] == usergroups[j]):\n",
    "            \n",
    "            for h in range(len(t[j])):\n",
    "                v = usergroups[j].split(\",\")\n",
    "                \n",
    "                for c in range(len(v)):\n",
    "                    \n",
    "                    if((timefindr(v[c],int(t[j][h]),(filid[0]))) != []):\n",
    "                        loco.append((timefindr(v[c],int(t[j][h]),(filid[0])))[0])\n",
    "                tim.append(int(duration[j][h]))\n",
    "    d = defaultdict(int)\n",
    "    for p in loco:\n",
    "        d[p] += 1\n",
    "    result = max(d.iteritems(), key=lambda x: x[1])  # checking whether maximum of users in a group are in a particular location.\n",
    "    loc = list(result)\n",
    "    z = ((sum(tim)*100/(1440*1.0)))\n",
    "    fg.writelines(us+','+str(z) + ',' +loc[0] + '\\n')\n",
    "fg.close()    \n"
   ]
  },
  {
   "cell_type": "markdown",
   "metadata": {
    "collapsed": true
   },
   "source": [
    "#### Plotting the Percentage of Group formation at different locations for days 22 - 29 May\n",
    "\n",
    "[See Interactive Plot](https://plot.ly/~prateekkol21/43)\n",
    "\n",
    "Hover over the dots in the link above to see the usergroups information.\n"
   ]
  },
  {
   "cell_type": "markdown",
   "metadata": {},
   "source": [
    "![](https://raw.githubusercontent.com/prateekiiest/Student-Group-Activity-Recognition/master/plot43.png)"
   ]
  },
  {
   "cell_type": "markdown",
   "metadata": {},
   "source": [
    "### Plotting groups formed per location at different time points of some number of days"
   ]
  },
  {
   "cell_type": "markdown",
   "metadata": {},
   "source": [
    "### Location - [backer-berry]"
   ]
  },
  {
   "cell_type": "markdown",
   "metadata": {},
   "source": [
    "![](https://raw.githubusercontent.com/prateekiiest/Student-Group-Activity-Recognition/master/Plot%2046.png)"
   ]
  },
  {
   "cell_type": "markdown",
   "metadata": {},
   "source": [
    "[See Interactive Plot](https://plot.ly/~prateekkol21/46)\n",
    "\n",
    "Hover over the dots in the interctive plot to check the groups information."
   ]
  },
  {
   "cell_type": "markdown",
   "metadata": {},
   "source": [
    "### Location - [sudikoff]"
   ]
  },
  {
   "cell_type": "markdown",
   "metadata": {},
   "source": [
    "![](https://raw.githubusercontent.com/prateekiiest/Student-Group-Activity-Recognition/master/Plot%2048.png)"
   ]
  },
  {
   "cell_type": "markdown",
   "metadata": {},
   "source": [
    "[See Interactive Plot](https://plot.ly/~prateekkol21/48)\n",
    "\n",
    "Hover over the dots for checking user group inforation\n",
    "\n"
   ]
  },
  {
   "cell_type": "markdown",
   "metadata": {},
   "source": [
    "Similarily for other locations I plotted this data."
   ]
  },
  {
   "cell_type": "markdown",
   "metadata": {},
   "source": [
    "### Per Location Percentage of Time Spent"
   ]
  },
  {
   "cell_type": "markdown",
   "metadata": {},
   "source": [
    "Month 05\n",
    "For Days 25 -28\n",
    "\n",
    "north-main        = 0.86%\n",
    "\n",
    "kemeny            percentage = (3/(4* 96.26666666666667)) = 0.77 %\n",
    "\n",
    "sudikoff          percentage = 50/(4.0* 96.26666666666667) = 13%\n",
    "\n",
    "backer-berry      percentage = 32/(4.0 * 96.26666666666667 ) =8.31%\n",
    "      \n",
    "      \n",
    "      \n",
    "Month 04\n",
    "\n",
    "north-main  = 11.3%\n",
    "\n",
    "kemeny = 12.5%\n",
    "\n",
    "sudikoff       percentage  =  9.8%\n",
    "\n",
    "backer-berry   percentage = 4.35%\n",
    "     \n",
    "      \n",
    "      \n",
    "      \n",
    "\n"
   ]
  },
  {
   "cell_type": "markdown",
   "metadata": {
    "collapsed": true
   },
   "source": [
    "Given the Jaccard Index and Pearson Coefficient values between every possible pair of users for a particular day, we check for the minimum Jaccard Index and minimum Pearson Coefficient among all such pairs where the pair of users have the same location during the same time. \n",
    "\n",
    "\n",
    "We see that the minimum Jaccard Index comes out to be 0.0 for two users spending 5 mins together in the same location and during the same time. But this is contradictory, since if the two users are at the same place and time for about 5 minutes, there must be some common BSSID values (intersection of the BSSID values) and hence Jaccard Index is ought to come out as non- zero.\n",
    "\n",
    "So there is some mismatch and we want calcluate this mismatch error percentage. "
   ]
  },
  {
   "cell_type": "code",
   "execution_count": null,
   "metadata": {
    "collapsed": true
   },
   "outputs": [],
   "source": [
    "import matplotlib.pyplot as plt\n",
    "import matplotlib.patches as mpatches\n",
    "from matplotlib.font_manager import FontProperties\n",
    "import numpy as np\n",
    "from glob import glob\n",
    "import re\n",
    "from datetime import datetime\n",
    "from collections import defaultdict\n",
    "import csv\n",
    "import os\n",
    "\n",
    "\n",
    "    \n",
    "    \n",
    "    \n",
    "J= []\n",
    "P = [] \n",
    "mismatch = 0\n",
    "nofiles = 0\n",
    "files_list = glob(os.path.join('JC', '*.txt'))\n",
    "for a_file in (files_list):\n",
    "    #print(a_file)\n",
    "    nofiles += 1\n",
    "    filename = a_file\n",
    "    \n",
    "    # finding all such files\n",
    "    \n",
    "    fil = open(filename, 'r')\n",
    "    fl  = a_file.split(\"_\")\n",
    "    lines = []\n",
    "    lines.append(fil.readlines())   # Reading from file\n",
    "\n",
    "    fil.close()\n",
    "    textlines = []\n",
    "    for i in range(len(lines[0])):\n",
    "        textlines.append( lines[0][i].split(\",\"))\n",
    "\n",
    "    time  = []\n",
    "    JC = []\n",
    "    Pearson_coefficient  = []\n",
    "\n",
    "    for j in range(len(textlines)):\n",
    "        time.append(textlines[j][0])\n",
    "        JC.append(textlines[j][1])\n",
    "        Pearson_coefficient.append(textlines[j][2])\n",
    "\n",
    "\n",
    "    for k in range(len(time)):\n",
    "        time[k] = int(time[k])\n",
    "\n",
    "    for k in range(len(JC)):\n",
    "        JC[k] = float(JC[k])     # We store the JaccardIndex, pearson coefficent value and the time index as previously done\n",
    "\n",
    "    for k in range(len(Pearson_coefficient)):\n",
    "        Pearson_coefficient[k] = float(Pearson_coefficient[k])\n",
    "    \n",
    "    \n",
    "    ft = open('LocationData\\\\'+ 'wifiLoc_' + fl[4],'r')\n",
    "\n",
    "    li= []\n",
    "    \n",
    "    li.append(ft.readlines())    \n",
    "    \n",
    "    ft.close()\n",
    "    for r in range(len(li[0])):\n",
    "        li[0][r] = re.split('[ , :]',li[0][r])\n",
    "    \n",
    "        \n",
    "    \n",
    "    ik =1    \n",
    "    while(ik < len(li[0]) - 5):    \n",
    "        t = ik    \n",
    "        Jac = []   # we take 5 mins of data, check if two users are in same location and same time , and then append the Jaccard Coefficient and Pearson Coefficient\n",
    "        Pac = []\n",
    "        jacsu = 0\n",
    "        while(t < (5 + ik )):\n",
    "            if fl[2] in (li[0][t]) and fl[3] in (li[0][t]):\n",
    "                for h in range(len(li[0][t])):\n",
    "                    if(fl[2] == li[0][t][h]):\n",
    "                        loc2 =  li[0][t][h+1]\n",
    "                for h in range(len(li[0][t])):\n",
    "                    if(fl[3] == li[0][t][h]):\n",
    "                        loc3 =  li[0][t][h+1]\n",
    "                   \n",
    "                if(loc2 == loc3):\n",
    "                       # if two locations are equal\n",
    "                    Jac.append(JC[t])\n",
    "                    Pac.append(Pearson_coefficient[t])\n",
    "                    \n",
    "                    if((Jac) == [0.0, 0.0, 0.0, 0.0, 0.0]):\n",
    "                        # if Jac coefficient is 0 for consecutive 5 minutes\n",
    "                        mismatch += 1\n",
    "                        \n",
    "            t += 1\n",
    "            \n",
    "        ik +=1       \n",
    "\n",
    "# iter the loop\n",
    "\n"
   ]
  },
  {
   "cell_type": "markdown",
   "metadata": {},
   "source": [
    "The mismatch error comes out to be around 8.908%."
   ]
  },
  {
   "cell_type": "markdown",
   "metadata": {
    "collapsed": true
   },
   "source": [
    "--------------------------------------------------------------"
   ]
  },
  {
   "cell_type": "markdown",
   "metadata": {},
   "source": [
    "## Relation of User GPA with group formation tendency."
   ]
  },
  {
   "cell_type": "code",
   "execution_count": null,
   "metadata": {
    "collapsed": true
   },
   "outputs": [],
   "source": [
    "\n",
    "import csv \n",
    "from glob import glob\n",
    "\n",
    "import os\n",
    "\n",
    "filn = open('GradesRelation.csv','a')\n",
    "f = open('grades.csv','r')\n",
    "\n",
    "li = []\n",
    "li.append(f.readlines())\n",
    "f.close()\n",
    "\n",
    "for i in range(1,len(li[0])):\n",
    "    li[0][i] = li[0][i].split(\",\")\n",
    "    \n",
    "user = []       # storing the user id and their corresponding gpa\n",
    "for i in range(1,len(li[0])):\n",
    "    user.append(li[0][i][0])\n",
    "    \n",
    "gpa = []    \n",
    "for i in range(1,len(li[0])):\n",
    "    gpa.append(li[0][i][1])\n",
    "    \n",
    "    \n",
    "filname = ['Day_04222013' ,'Day_04232013', 'Day_04242013' , 'Day_04252013' , 'Day_04262013' , 'Day_04272013' ,'Day_05222013' , 'Day_05232013', 'Day_05242013' , 'Day_05252013' , 'Day_05262013' , 'Day_05272013' , 'Day_05282013' , 'Day_05292013']    \n",
    "\n",
    "\n",
    "# for the above filenames we create a file containing the user_ids, the number of groups that they formed and their gpa\n",
    "for na in range(len(user)):\n",
    "    su = 0\n",
    "    for r in range(len(filname)):\n",
    "        if(os.path.isfile( filname[r] + '\\ ' + user[na] + '.csv') == True):\n",
    "            fil = open( filname[r] + '\\ ' + user[na] + '.csv' , 'r')\n",
    "            line =[]\n",
    "            line.append(fil.readlines())\n",
    "            fil.close()\n",
    "            z = len(line[0]) - 1\n",
    "            su += z\n",
    "            \n",
    "    filn.writelines(user[na] + ',' + str(su) + ',' + gpa[na] + '\\n ')\n",
    "            \n",
    "        "
   ]
  },
  {
   "cell_type": "markdown",
   "metadata": {},
   "source": [
    "#### Plot between Groups formed vs GPA\n"
   ]
  },
  {
   "cell_type": "markdown",
   "metadata": {},
   "source": [
    "![](https://raw.githubusercontent.com/prateekiiest/Student-Group-Activity-Recognition/master/Plot%2041.png)"
   ]
  },
  {
   "cell_type": "markdown",
   "metadata": {},
   "source": [
    "[See Interactive Plot](https://plot.ly/~prateekkol21/41) \n",
    "\n",
    "\n",
    "Hover over the data points to check about the user groups. The data points indicate the users groups formed."
   ]
  },
  {
   "cell_type": "markdown",
   "metadata": {},
   "source": [
    "## Inference and Results\n"
   ]
  },
  {
   "cell_type": "markdown",
   "metadata": {},
   "source": [
    "* ### At date 22/05\n",
    "- Toppers are in library more of the time.  Some during the night also\n",
    "- Lab is always crowded.                                \n",
    "- U32,u30 toppers are the major group in  library \n",
    "- U13 u36 are the major group in lab \n",
    "\n",
    "\n",
    "Completely different group characteristics in day 22 04 and day 22 05  \n",
    "\n",
    "\n",
    "* ### At date 22/04\n",
    "- Less population in backer-berry\n",
    "- North main population more\n",
    "- U19 , another topper in spends mostly backer-berry.\n",
    "\n",
    "\n",
    "\n",
    "* Less number of users are participating in groups with time.\n",
    "\n",
    "* Users spending time with friends in north-main or ssliby-rocky are seen to spend more time in other places together.\n",
    "* Some exceptions are there.\n",
    "\n",
    "\n",
    "* With time user groups are spending more time in library and lab(sudikoff)\n",
    "\n",
    "* Users within the same group tend to have almost close gpas.\n",
    "\n",
    "* Students with low gpa are seen to less tendency in participating in a group.\n",
    "* Students with a medium gpa have high tendency in participating in a group.\n",
    "* Students with a high gpa have a bit lower tendency of particiating in a group.\n"
   ]
  },
  {
   "cell_type": "markdown",
   "metadata": {
    "collapsed": true
   },
   "source": [
    "## Conclusion"
   ]
  },
  {
   "cell_type": "markdown",
   "metadata": {},
   "source": [
    "So we get to study about the different group characteristics, in a particular data set here in this case the **Student Life Data Set**.\n",
    "\n",
    "Based on proximity,wifi data we get to classify students into groups in order to study their activity.\n",
    "\n",
    "We get to know how the groups are being formed , how these groups evolve over time and the characteristics of such groups formed.\n",
    "\n",
    "Group Activity Recognition in  mobile devices is a challenging problem due to the conceptual disparity\n",
    "between the emergent nature of group behavior, and the local scope of observations of mobile devices.\n",
    "\n",
    "There is still a lot to explore in this area and I am eager to explore more about it. \n",
    "\n"
   ]
  }
 ],
 "metadata": {
  "anaconda-cloud": {},
  "kernelspec": {
   "display_name": "Python [Root]",
   "language": "python",
   "name": "Python [Root]"
  },
  "language_info": {
   "codemirror_mode": {
    "name": "ipython",
    "version": 2
   },
   "file_extension": ".py",
   "mimetype": "text/x-python",
   "name": "python",
   "nbconvert_exporter": "python",
   "pygments_lexer": "ipython2",
   "version": "2.7.12"
  }
 },
 "nbformat": 4,
 "nbformat_minor": 2
}
